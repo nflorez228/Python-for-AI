{
  "nbformat": 4,
  "nbformat_minor": 0,
  "metadata": {
    "colab": {
      "name": "Testing your Code",
      "provenance": [],
      "collapsed_sections": [],
      "toc_visible": true,
      "include_colab_link": true
    },
    "kernelspec": {
      "display_name": "Python 3",
      "name": "python3"
    }
  },
  "cells": [
    {
      "cell_type": "markdown",
      "metadata": {
        "id": "view-in-github",
        "colab_type": "text"
      },
      "source": [
        "<a href=\"https://colab.research.google.com/github/nflorez228/Python-for-AI/blob/master/Chapter%201/Testing%20your%20Code.ipynb\" target=\"_parent\"><img src=\"https://colab.research.google.com/assets/colab-badge.svg\" alt=\"Open In Colab\"/></a>"
      ]
    },
    {
      "cell_type": "markdown",
      "metadata": {
        "colab_type": "text",
        "id": "5fCEDCU_qrC0"
      },
      "source": [
        "<h1>Testing your Code</h1>\n",
        "\n",
        "When you write a function or a class, you can also write tests for that code. Testing proves that your code works as it's supposed to in the situations it's\n",
        "designed to handle, and also when people use your programs in unexpected ways. Writing tests gives you confidence that your code will work correctly as\n",
        "more people begin to use your programs. You can also add new features to your programs and know that you haven't broken existing behavior.\n",
        "\n",
        "A unit test verifies that one specific aspect of your code works as it's supposed to. A test case is a collection of unit tests which verify your code's\n",
        "behavior in a wide variety of situations."
      ]
    },
    {
      "cell_type": "markdown",
      "metadata": {
        "colab_type": "text",
        "id": "GJBs_flRovLc"
      },
      "source": [
        "### Testing a function: A passing test\n",
        "Python's unittest module provides tools for testing your code. To try it out, we’ll create a function that returns a full name. We’ll use the function in a regular program, and then build a test case for the function.\n"
      ]
    },
    {
      "cell_type": "markdown",
      "metadata": {
        "id": "CLCj6gGN3NwA",
        "colab_type": "text"
      },
      "source": [
        "#### A function to test\n",
        "*Saved as full_names.py*\n",
        "\n",
        "\n",
        "\n",
        "```python\n",
        "def get_full_name(first, last):\n",
        " \"\"\"Return a full name.\"\"\"\n",
        " full_name = \"{0} {1}\".format(first, last)\n",
        " return full_name.title()\n",
        "```\n",
        "\n"
      ]
    },
    {
      "cell_type": "code",
      "metadata": {
        "id": "HEp-d19NXlvl",
        "colab_type": "code",
        "colab": {}
      },
      "source": [
        "import os\n",
        "import urllib.request\n",
        "urllib.request.urlretrieve('https://raw.githubusercontent.com/nflorez228/Python-for-AI/master/Chapter%201/Aditional%20Resources/Files/full_names.py', 'full_names.py')"
      ],
      "execution_count": 0,
      "outputs": []
    },
    {
      "cell_type": "markdown",
      "metadata": {
        "id": "OPlFCYfO3h2A",
        "colab_type": "text"
      },
      "source": [
        "#### Using the function"
      ]
    },
    {
      "cell_type": "code",
      "metadata": {
        "id": "JHLjed9v8SYa",
        "colab_type": "code",
        "colab": {}
      },
      "source": [
        "from full_names import get_full_name\n",
        "janis = get_full_name('janis', 'joplin')\n",
        "print(janis)\n",
        "bob = get_full_name('bob', 'dylan')\n",
        "print(bob)"
      ],
      "execution_count": 0,
      "outputs": []
    },
    {
      "cell_type": "markdown",
      "metadata": {
        "id": "_HbUWFdizcw9",
        "colab_type": "text"
      },
      "source": [
        "#### Building a testcase with one unit test\n",
        "*To build a test case, make a class that inherits from unittest.TestCase and write methods that begin with test_.*\n",
        "\n",
        "*Save this as test_full_names.py*"
      ]
    },
    {
      "cell_type": "code",
      "metadata": {
        "id": "i5TLysqBzc2o",
        "colab_type": "code",
        "colab": {}
      },
      "source": [
        "import unittest\n",
        "from full_names import get_full_name\n",
        "class NamesTestCase(unittest.TestCase):\n",
        " \"\"\"Tests for names.py.\"\"\"\n",
        " def test_first_last(self):\n",
        "  \"\"\"Test names like Janis Joplin.\"\"\"\n",
        "  full_name = get_full_name('janis','joplin')\n",
        "  self.assertEqual(full_name,'Janis Joplin')\n",
        "\n",
        "if __name__ == '__main__':\n",
        "    unittest.main(argv=['first-arg-is-ignored'], exit=False)"
      ],
      "execution_count": 0,
      "outputs": []
    },
    {
      "cell_type": "markdown",
      "metadata": {
        "id": "uVew5zdi5PG3",
        "colab_type": "text"
      },
      "source": [
        "#### Running the test\n",
        "*Python reports on each unit test in the test case. The dot reports a single passing test. Python informs us that it ran 1 test in less than 0.001 seconds, and the OK lets us know that all unit tests in the test case passed.*\n",
        "\n",
        "\n",
        "\n",
        "```python\n",
        ".\n",
        "---------------------------------------\n",
        "Ran 1 test in 0.000s\n",
        "OK\n",
        "```\n",
        "\n",
        "\n"
      ]
    },
    {
      "cell_type": "markdown",
      "metadata": {
        "id": "E-oxGww6tRP8",
        "colab_type": "text"
      },
      "source": [
        "### Testing a function: A failing test\n",
        "Failing tests are important; they tell you that a change in the code has affected existing behavior. When a test fails, you need to modify the code so the existing behavior still works."
      ]
    },
    {
      "cell_type": "markdown",
      "metadata": {
        "id": "MrsNEMXN4DoI",
        "colab_type": "text"
      },
      "source": [
        "#### Modifying the function\n",
        "We’ll modify get_full_name() so it handles middle names, but we’ll do it in a way that breaks existing behavior.\n",
        "\n",
        "We'll save this as *full_namesModified.py* the idea es to preserve the previous *full_names.py*\n",
        "\n",
        "\n",
        "```python\n",
        "def get_full_name_modified(first, middle, last):\n",
        " \"\"\"Return a full name.\"\"\"\n",
        " full_name = \"{0} {1} {2}\".format(first,\n",
        " middle, last)\n",
        " return full_name.title()\n",
        "```\n",
        "\n"
      ]
    },
    {
      "cell_type": "code",
      "metadata": {
        "id": "y2cTffM1iESY",
        "colab_type": "code",
        "colab": {}
      },
      "source": [
        "import os\n",
        "import urllib.request\n",
        "urllib.request.urlretrieve('https://raw.githubusercontent.com/nflorez228/Python-for-AI/master/Chapter%201/Aditional%20Resources/Files/full_namesModified.py', 'full_namesModified.py')"
      ],
      "execution_count": 0,
      "outputs": []
    },
    {
      "cell_type": "markdown",
      "metadata": {
        "id": "tgmcTkjVHSDw",
        "colab_type": "text"
      },
      "source": [
        "#### Using the function"
      ]
    },
    {
      "cell_type": "code",
      "metadata": {
        "id": "-rvqfNmzHTAl",
        "colab_type": "code",
        "colab": {}
      },
      "source": [
        "from full_namesModified import get_full_name_modified\n",
        "john = get_full_name_modified('john', 'lee', 'hooker')\n",
        "print(john)\n",
        "david = get_full_name_modified('david', 'lee', 'roth')\n",
        "print(david)"
      ],
      "execution_count": 0,
      "outputs": []
    },
    {
      "cell_type": "markdown",
      "metadata": {
        "id": "p9K5XEQBzyE1",
        "colab_type": "text"
      },
      "source": [
        "#### Running the test\n",
        "When you change your code, it’s important to run your existing tests. This will tell you whether the changes you made affected existing behavior.\n",
        "\n",
        "\n",
        "\n",
        "``` python\n",
        "E\n",
        "================================================\n",
        "ERROR: test_first_last (__main__.NamesTestCase)\n",
        "Test names like Janis Joplin.\n",
        "------------------------------------------------\n",
        "Traceback (most recent call last):\n",
        " File \"test_full_names.py\", line 10,\n",
        " in test_first_last\n",
        " 'joplin')\n",
        "TypeError: get_full_name() missing 1 required\n",
        " positional argument: 'last'\n",
        "------------------------------------------------\n",
        "Ran 1 test in 0.001s\n",
        "FAILED (errors=1)\n",
        "```\n",
        "\n"
      ]
    },
    {
      "cell_type": "code",
      "metadata": {
        "id": "-FQ3aa_DzyLa",
        "colab_type": "code",
        "colab": {}
      },
      "source": [
        "import unittest\n",
        "from full_namesModified import get_full_name_modified\n",
        "class NamesTestCase(unittest.TestCase):\n",
        " \"\"\"Tests for names.py.\"\"\"\n",
        " def test_first_last(self):\n",
        "  \"\"\"Test names like Janis Joplin.\"\"\"\n",
        "  full_name = get_full_name_modified('janis','joplin')\n",
        "  self.assertEqual(full_name,'Janis Joplin')\n",
        "\n",
        "if __name__ == '__main__':\n",
        "    unittest.main(argv=['first-arg-is-ignored'], exit=False)"
      ],
      "execution_count": 0,
      "outputs": []
    },
    {
      "cell_type": "markdown",
      "metadata": {
        "id": "BtZ1UsE28xX_",
        "colab_type": "text"
      },
      "source": [
        "#### Fixing the code\n",
        "*When a test fails, the code needs to be modified until the test passes again. (Don’t make the mistake of rewriting your tests to fit your new code.) Here we can make the middle name optional.*\n",
        "\n",
        "We'll save this as full_namesModifiedFix.py the idea es to preserve the previous full_names.py and full_namesModified.py\n",
        "\n",
        "``` python\n",
        "def get_full_nameFix(first, last, middle=''):\n",
        " \"\"\"Return a full name.\"\"\"\n",
        " if middle:\n",
        "  full_name = \"{0} {1} {2}\".format(first, middle, last)\n",
        " else:\n",
        "  full_name = \"{0} {1}\".format(first, last)\n",
        " return full_name.title()\n",
        "```"
      ]
    },
    {
      "cell_type": "code",
      "metadata": {
        "id": "eKN2AtvXknuA",
        "colab_type": "code",
        "colab": {}
      },
      "source": [
        "import os\n",
        "import urllib.request\n",
        "urllib.request.urlretrieve('https://raw.githubusercontent.com/nflorez228/Python-for-AI/master/Chapter%201/Aditional%20Resources/Files/full_namesModifiedFix.py', 'full_namesModifiedFix.py')"
      ],
      "execution_count": 0,
      "outputs": []
    },
    {
      "cell_type": "markdown",
      "metadata": {
        "id": "q9f_2aay9G4s",
        "colab_type": "text"
      },
      "source": [
        "#### Running the test\n",
        "Now the test should pass again, which means our original functionality is still intact.\n",
        "\n",
        "\n",
        "\n",
        "```python\n",
        ".\n",
        "---------------------------------------\n",
        "Ran 1 test in 0.000s\n",
        "OK\n",
        "```\n",
        "\n"
      ]
    },
    {
      "cell_type": "code",
      "metadata": {
        "id": "m8sNJSW89G8m",
        "colab_type": "code",
        "colab": {}
      },
      "source": [
        "import unittest\n",
        "from full_namesModifiedFix import get_full_nameFix\n",
        "class NamesTestCase(unittest.TestCase):\n",
        " \"\"\"Tests for names.py.\"\"\"\n",
        " def test_first_last(self):\n",
        "  \"\"\"Test names like Janis Joplin.\"\"\"\n",
        "  full_name = get_full_nameFix('janis','joplin')\n",
        "  self.assertEqual(full_name,'Janis Joplin')\n",
        "\n",
        "if __name__ == '__main__':\n",
        "    unittest.main(argv=['first-arg-is-ignored'], exit=False)"
      ],
      "execution_count": 0,
      "outputs": []
    },
    {
      "cell_type": "markdown",
      "metadata": {
        "colab_type": "text",
        "id": "-Rh3-Vt9Nev9"
      },
      "source": [
        "### Adding new tests\n",
        "You can add as many unit tests to a test case as you need. To write a new test, add a new method to your test case class.\n"
      ]
    },
    {
      "cell_type": "markdown",
      "metadata": {
        "id": "-mLzeQss41zx",
        "colab_type": "text"
      },
      "source": [
        "#### Testing middle names\n",
        "*We’ve shown that get_full_name() works for first and last names. Let’s test that it works for middle names as well.*\n"
      ]
    },
    {
      "cell_type": "code",
      "metadata": {
        "id": "J7DsLelXtdPT",
        "colab_type": "code",
        "colab": {}
      },
      "source": [
        "import unittest\n",
        "from full_namesModifiedFix import get_full_nameFix\n",
        "class NamesTestCase(unittest.TestCase):\n",
        " \"\"\"Tests for names.py.\"\"\"\n",
        " def test_first_last(self):\n",
        "  \"\"\"Test names like Janis Joplin.\"\"\"\n",
        "  full_name = get_full_nameFix('janis', 'joplin')\n",
        "  self.assertEqual(full_name, 'Janis Joplin')\n",
        "\n",
        " def test_middle(self):\n",
        "  \"\"\"Test names like David Lee Roth.\"\"\"\n",
        "  full_name = get_full_nameFix('david', 'roth', 'lee')\n",
        "  self.assertEqual(full_name, 'David Lee Roth')\n",
        "\n",
        "if __name__ == '__main__':\n",
        "    unittest.main(argv=['first-arg-is-ignored'], exit=False)"
      ],
      "execution_count": 0,
      "outputs": []
    },
    {
      "cell_type": "markdown",
      "metadata": {
        "id": "c238RVnSBI2x",
        "colab_type": "text"
      },
      "source": [
        "Running the tests\n",
        "The two dots represent two passing tests.\n",
        "\n",
        "\n",
        "``` python\n",
        "..\n",
        "---------------------------------------\n",
        "Ran 2 tests in 0.000s\n",
        "OK\n",
        "```\n",
        "\n"
      ]
    },
    {
      "cell_type": "markdown",
      "metadata": {
        "id": "WAwKLC2W5zSG",
        "colab_type": "text"
      },
      "source": [
        "### A variety of assert methods\n",
        "Python provides a number of assert methods you can use to test your code."
      ]
    },
    {
      "cell_type": "markdown",
      "metadata": {
        "id": "oA51rcAC587i",
        "colab_type": "text"
      },
      "source": [
        "#### Verify that a==b, or a != b\n",
        "\n",
        "\n",
        "``` python\n",
        "assertEqual(a, b)\n",
        "assertNotEqual(a, b)\n",
        "```\n",
        "\n"
      ]
    },
    {
      "cell_type": "markdown",
      "metadata": {
        "id": "O_2zH27fWtuJ",
        "colab_type": "text"
      },
      "source": [
        "#### Verify that x is True, or x is False\n",
        "\n",
        "\n",
        "``` python\n",
        "assertTrue(x)\n",
        "assertFalse(x)\n",
        "```\n",
        "\n"
      ]
    },
    {
      "cell_type": "markdown",
      "metadata": {
        "id": "VnPbCakuBpX0",
        "colab_type": "text"
      },
      "source": [
        "#### Verify an item is in a list, or not in a list\n",
        "\n",
        "\n",
        "\n",
        "```\n",
        "assertIn(item, list)\n",
        "assertNotIn(item, list)\n",
        "```\n",
        "\n"
      ]
    },
    {
      "cell_type": "markdown",
      "metadata": {
        "id": "09YdSNh_0zgT",
        "colab_type": "text"
      },
      "source": [
        "### Testing a class\n",
        "\n",
        "Testing a class is similar to testing a function, since you’ll mostly be testing your methods.\n"
      ]
    },
    {
      "cell_type": "markdown",
      "metadata": {
        "id": "Su7N_8X29XXF",
        "colab_type": "text"
      },
      "source": [
        "### The else block\n",
        "The try block should only contain code that may cause an error. Any code that depends on the try block running successfully should be placed in the else block."
      ]
    },
    {
      "cell_type": "markdown",
      "metadata": {
        "id": "6kWFdA729Xbd",
        "colab_type": "text"
      },
      "source": [
        "#### A class to test\n",
        "*Saved as accountant.py*\n",
        "\n",
        "\n",
        "\n",
        "``` python\n",
        "class Accountant():\n",
        " \"\"\"Manage a bank account.\"\"\"\n",
        "\n",
        " def __init__(self, balance=0):\n",
        "  self.balance = balance\n",
        "\n",
        " def deposit(self, amount):\n",
        "  self.balance += amount\n",
        "\n",
        " def withdraw(self, amount):\n",
        "  self.balance -= amount\n",
        "```\n",
        "\n"
      ]
    },
    {
      "cell_type": "code",
      "metadata": {
        "id": "96WNSUgEnqlR",
        "colab_type": "code",
        "colab": {}
      },
      "source": [
        "import os\n",
        "import urllib.request\n",
        "urllib.request.urlretrieve('https://raw.githubusercontent.com/nflorez228/Python-for-AI/master/Chapter%201/Aditional%20Resources/Files/accountant.py', 'accountant.py')"
      ],
      "execution_count": 0,
      "outputs": []
    },
    {
      "cell_type": "markdown",
      "metadata": {
        "id": "Fkkasi0Z9YDw",
        "colab_type": "text"
      },
      "source": [
        "#### Building a testcase\n",
        "*For the first test, we’ll make sure we can start out with different initial balances. Save this as test_accountant.py.*\n"
      ]
    },
    {
      "cell_type": "code",
      "metadata": {
        "id": "Ob2dWxBe9YKB",
        "colab_type": "code",
        "colab": {}
      },
      "source": [
        "import unittest\n",
        "from accountant import Accountant\n",
        "class TestAccountant(unittest.TestCase):\n",
        " \"\"\"Tests for the class Accountant.\"\"\"\n",
        "\n",
        " def test_initial_balance(self):\n",
        "  # Default balance should be 0.\n",
        "  acc = Accountant()\n",
        "  self.assertEqual(acc.balance, 0)\n",
        "\n",
        "  # Test non-default balance.\n",
        "  acc = Accountant(100)\n",
        "  self.assertEqual(acc.balance, 100)\n",
        "\n",
        "if __name__ == '__main__':\n",
        "    unittest.main(argv=['first-arg-is-ignored'], exit=False)"
      ],
      "execution_count": 0,
      "outputs": []
    },
    {
      "cell_type": "markdown",
      "metadata": {
        "id": "wRyD-s1eCENX",
        "colab_type": "text"
      },
      "source": [
        "Running the test\n",
        "\n",
        "\n",
        "```python\n",
        ".\n",
        "---------------------------------------\n",
        "Ran 3 tests in 0.001s\n",
        "OK\n",
        "```\n",
        "\n",
        "\n"
      ]
    },
    {
      "cell_type": "markdown",
      "metadata": {
        "id": "4dooqQOvCKS4",
        "colab_type": "text"
      },
      "source": [
        "### When is it okay to moodify tests?\n",
        "\n",
        "In general you shouldn’t modify a test once it’s written.\n",
        "\n",
        "When a test fails it usually means new code you’ve written has broken existing functionality, and you need to modify the new code until all existing tests pass.\n",
        "\n",
        " If your original requirements have changed, it may be appropriate to modify some tests. This usually happens in the early stages of a project when desired behavior is still being sorted out"
      ]
    },
    {
      "cell_type": "markdown",
      "metadata": {
        "id": "6zgwbNFCIq3e",
        "colab_type": "text"
      },
      "source": [
        "### The setUp() method\n",
        "When testing a class, you usually have to make an instance of the class. The setUp() method is run before every test.\n",
        "\n",
        "Any instances you make in setUp() are available in every test you write. "
      ]
    },
    {
      "cell_type": "markdown",
      "metadata": {
        "id": "oWhumWdm9sOe",
        "colab_type": "text"
      },
      "source": [
        "### Using setUp() to support multiple tests\n",
        "*The instance self.acc can be used in each new test.*"
      ]
    },
    {
      "cell_type": "code",
      "metadata": {
        "id": "BcuYGdHpCoOi",
        "colab_type": "code",
        "colab": {}
      },
      "source": [
        "import unittest\n",
        "from accountant import Accountant\n",
        "class TestAccountant(unittest.TestCase):\n",
        " \"\"\"Tests for the class Accountant.\"\"\"\n",
        "\n",
        " def setUp(self):\n",
        "  self.acc = Accountant()\n",
        "\n",
        " def test_initial_balance(self):\n",
        "  # Default balance should be 0.\n",
        "  self.assertEqual(self.acc.balance, 0)\n",
        "\n",
        "  # Test non-default balance.\n",
        "  acc = Accountant(100)\n",
        "  self.assertEqual(acc.balance, 100)\n",
        "\n",
        " def test_deposit(self):\n",
        "  # Test single deposit.\n",
        "  self.acc.deposit(100)\n",
        "  self.assertEqual(self.acc.balance, 100)\n",
        "\n",
        "  # Test multiple deposits.\n",
        "  self.acc.deposit(100)\n",
        "  self.acc.deposit(100)\n",
        "  self.assertEqual(self.acc.balance, 300)\n",
        "\n",
        " def test_withdrawal(self):\n",
        "  # Test single withdrawal.\n",
        "  self.acc.deposit(1000)\n",
        "  self.acc.withdraw(100)\n",
        "  self.assertEqual(self.acc.balance, 900)\n",
        "\n",
        "if __name__ == '__main__':\n",
        "    unittest.main(argv=['first-arg-is-ignored'], exit=False)"
      ],
      "execution_count": 0,
      "outputs": []
    },
    {
      "cell_type": "markdown",
      "metadata": {
        "id": "geepFUtZ9sUl",
        "colab_type": "text"
      },
      "source": [
        "**Running** the tests\n",
        "\n",
        "\n",
        "\n",
        "``` python\n",
        "...\n",
        "---------------------------------------\n",
        "Ran 5 tests in 0.004s\n",
        "OK\n",
        "```\n",
        "\n"
      ]
    }
  ]
}