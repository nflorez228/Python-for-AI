{
  "nbformat": 4,
  "nbformat_minor": 0,
  "metadata": {
    "colab": {
      "name": "If Statements and While Loops",
      "provenance": [],
      "collapsed_sections": [],
      "toc_visible": true,
      "include_colab_link": true
    },
    "kernelspec": {
      "display_name": "Python 3",
      "name": "python3"
    }
  },
  "cells": [
    {
      "cell_type": "markdown",
      "metadata": {
        "id": "view-in-github",
        "colab_type": "text"
      },
      "source": [
        "<a href=\"https://colab.research.google.com/github/nflorez228/Python-for-AI/blob/master/Chapter%201/If%20Statements%20and%20While%20Loops.ipynb\" target=\"_parent\"><img src=\"https://colab.research.google.com/assets/colab-badge.svg\" alt=\"Open In Colab\"/></a>"
      ]
    },
    {
      "cell_type": "markdown",
      "metadata": {
        "colab_type": "text",
        "id": "5fCEDCU_qrC0"
      },
      "source": [
        "<h1>Dictionaries</h1>\n",
        "\n",
        "\n",
        "Python's dictionaries allow you to connect pieces of\n",
        "related information. Each piece of information in a\n",
        "dictionary is stored as a key-value pair. When you\n",
        "provide a key, Python returns the value associated\n",
        "with that key. You can loop through all the key-value\n",
        "pairs, all the keys, or all the values."
      ]
    },
    {
      "cell_type": "markdown",
      "metadata": {
        "colab_type": "text",
        "id": "GJBs_flRovLc"
      },
      "source": [
        "### Defining a dictionary\n",
        "Use curly braces to define a dictionary. Use colons to connect keys and values, and use commas to separate individual key-value pairs."
      ]
    },
    {
      "cell_type": "markdown",
      "metadata": {
        "id": "CLCj6gGN3NwA",
        "colab_type": "text"
      },
      "source": [
        "#### Making a dictionary"
      ]
    },
    {
      "cell_type": "code",
      "metadata": {
        "colab_type": "code",
        "id": "gJr_9dXGpJ05",
        "colab": {}
      },
      "source": [
        "alien_0 = {'color': 'green', 'points': 5}"
      ],
      "execution_count": 0,
      "outputs": []
    },
    {
      "cell_type": "markdown",
      "metadata": {
        "colab_type": "text",
        "id": "2fhs6GZ4qFMx"
      },
      "source": [
        "### Accessing values\n",
        "To access the value associated with an individual key give the name of the dictionary and then place the key in a set of square brackets. If the key you're asking for is not in the dictionary, an error will occur.\n",
        "\n",
        " You can also use the get() method, which returns None\n",
        "instead of an error if the key doesn't exist. You can also specify a default value to use if the key is not in the\n",
        "dictionary.\n",
        "\n"
      ]
    },
    {
      "cell_type": "markdown",
      "metadata": {
        "id": "OPlFCYfO3h2A",
        "colab_type": "text"
      },
      "source": [
        "#### Getting the value associated with a key\n"
      ]
    },
    {
      "cell_type": "code",
      "metadata": {
        "id": "o4PAqSOBwuhG",
        "colab_type": "code",
        "outputId": "bcfb4f14-5cee-41ea-b820-d0c8e9b1c368",
        "colab": {
          "base_uri": "https://localhost:8080/",
          "height": 51
        }
      },
      "source": [
        "alien_0 = {'color': 'green', 'points': 5}\n",
        "print(alien_0['color'])\n",
        "print(alien_0['points'])"
      ],
      "execution_count": 2,
      "outputs": [
        {
          "output_type": "stream",
          "text": [
            "green\n",
            "5\n"
          ],
          "name": "stdout"
        }
      ]
    },
    {
      "cell_type": "markdown",
      "metadata": {
        "id": "TDg4SDfv3rpz",
        "colab_type": "text"
      },
      "source": [
        "#### Getting the value with get()"
      ]
    },
    {
      "cell_type": "code",
      "metadata": {
        "id": "N9GYQirt3r43",
        "colab_type": "code",
        "outputId": "50fb8557-df1a-443b-8394-d1926520031b",
        "colab": {
          "base_uri": "https://localhost:8080/",
          "height": 51
        }
      },
      "source": [
        "alien_0 = {'color': 'green'}\n",
        "alien_color = alien_0.get('color')\n",
        "alien_points = alien_0.get('points', 0)\n",
        "print(alien_color)\n",
        "print(alien_points)"
      ],
      "execution_count": 3,
      "outputs": [
        {
          "output_type": "stream",
          "text": [
            "green\n",
            "0\n"
          ],
          "name": "stdout"
        }
      ]
    },
    {
      "cell_type": "markdown",
      "metadata": {
        "id": "E-oxGww6tRP8",
        "colab_type": "text"
      },
      "source": [
        "### Adding new key-value pairs\n",
        "You can store as many key-value pairs as you want in a\n",
        "dictionary, until your computer runs out of memory. To add a new key-value pair to an existing dictionary give the name of the dictionary and the new key in square brackets, and set it equal to the new value.\n",
        " This also allows you to start with an empty dictionary and add key-value pairs as they become relevant."
      ]
    },
    {
      "cell_type": "markdown",
      "metadata": {
        "id": "MrsNEMXN4DoI",
        "colab_type": "text"
      },
      "source": [
        "#### Adding a key-value pair"
      ]
    },
    {
      "cell_type": "code",
      "metadata": {
        "id": "E9mzP-fn4my9",
        "colab_type": "code",
        "colab": {}
      },
      "source": [
        "alien_0 = {'color': 'green', 'points': 5}\n",
        "alien_0['x'] = 0\n",
        "alien_0['y'] = 25\n",
        "alien_0['speed'] = 1.5"
      ],
      "execution_count": 0,
      "outputs": []
    },
    {
      "cell_type": "markdown",
      "metadata": {
        "id": "tgmcTkjVHSDw",
        "colab_type": "text"
      },
      "source": [
        "#### Adding to an empty dictionary"
      ]
    },
    {
      "cell_type": "code",
      "metadata": {
        "id": "-rvqfNmzHTAl",
        "colab_type": "code",
        "colab": {}
      },
      "source": [
        "alien_0 = {}\n",
        "alien_0['color'] = 'green'\n",
        "alien_0['points'] = 5"
      ],
      "execution_count": 0,
      "outputs": []
    },
    {
      "cell_type": "markdown",
      "metadata": {
        "colab_type": "text",
        "id": "-Rh3-Vt9Nev9"
      },
      "source": [
        "### Modifying values\n",
        "You can modify the value associated with any key in a\n",
        "dictionary. To do so give the name of the dictionary and enclose the key in square brackets, then provide the new value for that key."
      ]
    },
    {
      "cell_type": "markdown",
      "metadata": {
        "id": "-mLzeQss41zx",
        "colab_type": "text"
      },
      "source": [
        "#### Modifying values in a dictionary"
      ]
    },
    {
      "cell_type": "code",
      "metadata": {
        "id": "J7DsLelXtdPT",
        "colab_type": "code",
        "outputId": "158c23e2-bcee-4e02-c23b-75532db4b37f",
        "colab": {
          "base_uri": "https://localhost:8080/",
          "height": 51
        }
      },
      "source": [
        "alien_0 = {'color': 'green', 'points': 5}\n",
        "print(alien_0)\n",
        "# Change the alien's color and point value.\n",
        "alien_0['color'] = 'yellow'\n",
        "alien_0['points'] = 10\n",
        "print(alien_0)"
      ],
      "execution_count": 6,
      "outputs": [
        {
          "output_type": "stream",
          "text": [
            "{'color': 'green', 'points': 5}\n",
            "{'color': 'yellow', 'points': 10}\n"
          ],
          "name": "stdout"
        }
      ]
    },
    {
      "cell_type": "markdown",
      "metadata": {
        "id": "WAwKLC2W5zSG",
        "colab_type": "text"
      },
      "source": [
        "### Removing key-value pairs\n",
        "You can remove any key-value pair you want from a\n",
        "dictionary. To do so use the del keyword and the dictionary name, followed by the key in square brackets. This will delete the key and its associated value."
      ]
    },
    {
      "cell_type": "markdown",
      "metadata": {
        "id": "oA51rcAC587i",
        "colab_type": "text"
      },
      "source": [
        "#### Deleting a key-value pair\n"
      ]
    },
    {
      "cell_type": "code",
      "metadata": {
        "id": "2GLNzfuJ5-qF",
        "colab_type": "code",
        "outputId": "d81e9d9d-6628-459d-9604-1da96e826f4d",
        "colab": {
          "base_uri": "https://localhost:8080/",
          "height": 51
        }
      },
      "source": [
        "alien_0 = {'color': 'green', 'points': 5}\n",
        "print(alien_0)\n",
        "del alien_0['points']\n",
        "print(alien_0)"
      ],
      "execution_count": 7,
      "outputs": [
        {
          "output_type": "stream",
          "text": [
            "{'color': 'green', 'points': 5}\n",
            "{'color': 'green'}\n"
          ],
          "name": "stdout"
        }
      ]
    },
    {
      "cell_type": "markdown",
      "metadata": {
        "id": "Su7N_8X29XXF",
        "colab_type": "text"
      },
      "source": [
        "### Looping through a dictionary\n",
        "You can loop through a dictionary in three ways: you can loop through all the key-value pairs, all the keys, or all the values.\n",
        "\n",
        " A dictionary only tracks the connections between keys\n",
        "and values; it doesn't track the order of items in the\n",
        "dictionary. If you want to process the information in order, you can sort the keys in your loop.\n"
      ]
    },
    {
      "cell_type": "markdown",
      "metadata": {
        "id": "6kWFdA729Xbd",
        "colab_type": "text"
      },
      "source": [
        "#### Looping through all key-value pairs"
      ]
    },
    {
      "cell_type": "code",
      "metadata": {
        "id": "2LtsL8XG9XzJ",
        "colab_type": "code",
        "outputId": "50e40677-0229-48d0-ba5f-b3697cf72aa6",
        "colab": {
          "base_uri": "https://localhost:8080/",
          "height": 85
        }
      },
      "source": [
        "# Store people's favorite languages.\n",
        "fav_languages = {\n",
        " 'jen': 'python',\n",
        " 'sarah': 'c',\n",
        " 'edward': 'ruby',\n",
        " 'phil': 'python',\n",
        " }\n",
        "# Show each person's favorite language.\n",
        "for name, language in fav_languages.items():\n",
        " print(name + \": \" + language)"
      ],
      "execution_count": 8,
      "outputs": [
        {
          "output_type": "stream",
          "text": [
            "jen: python\n",
            "sarah: c\n",
            "edward: ruby\n",
            "phil: python\n"
          ],
          "name": "stdout"
        }
      ]
    },
    {
      "cell_type": "markdown",
      "metadata": {
        "id": "Fkkasi0Z9YDw",
        "colab_type": "text"
      },
      "source": [
        "#### Looping through all the keys"
      ]
    },
    {
      "cell_type": "code",
      "metadata": {
        "id": "Ob2dWxBe9YKB",
        "colab_type": "code",
        "outputId": "e6f1938c-591b-4b2d-8634-037c4652435e",
        "colab": {
          "base_uri": "https://localhost:8080/",
          "height": 85
        }
      },
      "source": [
        "# Show everyone who's taken the survey.\n",
        "for name in fav_languages.keys():\n",
        " print(name)"
      ],
      "execution_count": 9,
      "outputs": [
        {
          "output_type": "stream",
          "text": [
            "jen\n",
            "sarah\n",
            "edward\n",
            "phil\n"
          ],
          "name": "stdout"
        }
      ]
    },
    {
      "cell_type": "markdown",
      "metadata": {
        "id": "6zgwbNFCIq3e",
        "colab_type": "text"
      },
      "source": [
        "#### Looping through all the values"
      ]
    },
    {
      "cell_type": "code",
      "metadata": {
        "id": "6SYTileNIq_x",
        "colab_type": "code",
        "colab": {
          "base_uri": "https://localhost:8080/",
          "height": 85
        },
        "outputId": "72aa3623-ea18-49ef-c3ab-e3fe052d5fd6"
      },
      "source": [
        "# Show all the languages that have been chosen.\n",
        "for language in fav_languages.values():\n",
        " print(language)"
      ],
      "execution_count": 10,
      "outputs": [
        {
          "output_type": "stream",
          "text": [
            "python\n",
            "c\n",
            "ruby\n",
            "python\n"
          ],
          "name": "stdout"
        }
      ]
    },
    {
      "cell_type": "markdown",
      "metadata": {
        "id": "jRrvNgLjIrVb",
        "colab_type": "text"
      },
      "source": [
        "#### Looping through all the keys in order"
      ]
    },
    {
      "cell_type": "code",
      "metadata": {
        "id": "uyUAcJ2DIrem",
        "colab_type": "code",
        "colab": {
          "base_uri": "https://localhost:8080/",
          "height": 85
        },
        "outputId": "9da041a2-a93e-4f9c-bbb7-cf5c36cc65e8"
      },
      "source": [
        "# Show each person's favorite language,\n",
        "# in order by the person's name.\n",
        "for name in sorted(fav_languages.keys()):\n",
        " print(name + \": \" + language)"
      ],
      "execution_count": 11,
      "outputs": [
        {
          "output_type": "stream",
          "text": [
            "edward: python\n",
            "jen: python\n",
            "phil: python\n",
            "sarah: python\n"
          ],
          "name": "stdout"
        }
      ]
    },
    {
      "cell_type": "markdown",
      "metadata": {
        "id": "oWhumWdm9sOe",
        "colab_type": "text"
      },
      "source": [
        "### Dictionary lenght\n",
        "You can find the number of key-value pairs in a dictionary."
      ]
    },
    {
      "cell_type": "markdown",
      "metadata": {
        "id": "geepFUtZ9sUl",
        "colab_type": "text"
      },
      "source": [
        "#### Finding a dictionary's length"
      ]
    },
    {
      "cell_type": "code",
      "metadata": {
        "id": "VeOFGahw9sfB",
        "colab_type": "code",
        "colab": {}
      },
      "source": [
        "num_responses = len(fav_languages)"
      ],
      "execution_count": 0,
      "outputs": []
    },
    {
      "cell_type": "markdown",
      "metadata": {
        "id": "0tPyqUPl-ARP",
        "colab_type": "text"
      },
      "source": [
        "### Nesting - A list of dictionaries\n",
        "It's sometimes useful to store a set of dictionaries in a list; this is called nesting.\n",
        "\n"
      ]
    },
    {
      "cell_type": "markdown",
      "metadata": {
        "id": "f8YP5rzY-AU5",
        "colab_type": "text"
      },
      "source": [
        "#### Storing dictionaries in a list"
      ]
    },
    {
      "cell_type": "code",
      "metadata": {
        "id": "U3-ZELv4-AxA",
        "colab_type": "code",
        "colab": {
          "base_uri": "https://localhost:8080/",
          "height": 187
        },
        "outputId": "ab7dc6a2-c3ad-4116-d13c-2c63a751175a"
      },
      "source": [
        "# Start with an empty list.\n",
        "users = []\n",
        "# Make a new user, and add them to the list.\n",
        "new_user = {\n",
        " 'last': 'fermi',\n",
        " 'first': 'enrico',\n",
        " 'username': 'efermi',\n",
        " }\n",
        "users.append(new_user)\n",
        "# Make another new user, and add them as well.\n",
        "new_user = {\n",
        " 'last': 'curie',\n",
        " 'first': 'marie',\n",
        " 'username': 'mcurie',\n",
        " }\n",
        "users.append(new_user)\n",
        "# Show all information about each user.\n",
        "for user_dict in users:\n",
        " for k, v in user_dict.items():\n",
        "  print(k + \": \" + v)\n",
        " print(\"\\n\") "
      ],
      "execution_count": 13,
      "outputs": [
        {
          "output_type": "stream",
          "text": [
            "last: fermi\n",
            "first: enrico\n",
            "username: efermi\n",
            "\n",
            "\n",
            "last: curie\n",
            "first: marie\n",
            "username: mcurie\n",
            "\n",
            "\n"
          ],
          "name": "stdout"
        }
      ]
    },
    {
      "cell_type": "markdown",
      "metadata": {
        "id": "3WQoilrc-A_n",
        "colab_type": "text"
      },
      "source": [
        "#### You can also define a list of dictionaries directly, without using append()\n"
      ]
    },
    {
      "cell_type": "code",
      "metadata": {
        "id": "MAr_UzF8-BIl",
        "colab_type": "code",
        "colab": {
          "base_uri": "https://localhost:8080/",
          "height": 187
        },
        "outputId": "6ccfd236-87d8-421e-9aee-e6f476a146e6"
      },
      "source": [
        "# Define a list of users, where each user\n",
        "# is represented by a dictionary.\n",
        "users = [\n",
        " {\n",
        " 'last': 'fermi',\n",
        " 'first': 'enrico',\n",
        " 'username': 'efermi',\n",
        " },\n",
        " {\n",
        " 'last': 'curie',\n",
        " 'first': 'marie',\n",
        " 'username': 'mcurie',\n",
        " },\n",
        "]\n",
        "# Show all information about each user.\n",
        "for user_dict in users:\n",
        " for k, v in user_dict.items():\n",
        "  print(k + \": \" + v)\n",
        " print(\"\\n\")\n"
      ],
      "execution_count": 14,
      "outputs": [
        {
          "output_type": "stream",
          "text": [
            "last: fermi\n",
            "first: enrico\n",
            "username: efermi\n",
            "\n",
            "\n",
            "last: curie\n",
            "first: marie\n",
            "username: mcurie\n",
            "\n",
            "\n"
          ],
          "name": "stdout"
        }
      ]
    },
    {
      "cell_type": "markdown",
      "metadata": {
        "id": "oJboXZVgBRgB",
        "colab_type": "text"
      },
      "source": [
        "### Nesting - Lists in a dictionary \n",
        "Storing a list inside a dictionary alows you to associate more than one value with each key.\n"
      ]
    },
    {
      "cell_type": "markdown",
      "metadata": {
        "id": "wu1hvFzBBRnq",
        "colab_type": "text"
      },
      "source": [
        "#### Storing lists in a dictionary\n"
      ]
    },
    {
      "cell_type": "code",
      "metadata": {
        "id": "qwy98MpwBRyP",
        "colab_type": "code",
        "outputId": "5b259756-0a34-40d4-c1e3-bea5183fccc8",
        "colab": {
          "base_uri": "https://localhost:8080/",
          "height": 204
        }
      },
      "source": [
        "# Store multiple languages for each person.\n",
        "fav_languages = {\n",
        " 'jen': ['python', 'ruby'],\n",
        " 'sarah': ['c'],\n",
        " 'edward': ['ruby', 'go'],\n",
        " 'phil': ['python', 'haskell'],\n",
        "}\n",
        "# Show all responses for each person.\n",
        "for name, langs in fav_languages.items():\n",
        " print(name + \": \")\n",
        " for lang in langs:\n",
        "  print(\"- \" + lang)"
      ],
      "execution_count": 15,
      "outputs": [
        {
          "output_type": "stream",
          "text": [
            "jen: \n",
            "- python\n",
            "- ruby\n",
            "sarah: \n",
            "- c\n",
            "edward: \n",
            "- ruby\n",
            "- go\n",
            "phil: \n",
            "- python\n",
            "- haskell\n"
          ],
          "name": "stdout"
        }
      ]
    },
    {
      "cell_type": "markdown",
      "metadata": {
        "id": "c_pv2_TEBTXq",
        "colab_type": "text"
      },
      "source": [
        "### Nesting - A dictionary of dictionaries\n",
        "You can store a dictionary inside another dictionary. In this case each value associated with a key is itself a dictionary.\n"
      ]
    },
    {
      "cell_type": "markdown",
      "metadata": {
        "id": "fkli3wBaBTjI",
        "colab_type": "text"
      },
      "source": [
        "#### Storing dictionaries in a dictionary"
      ]
    },
    {
      "cell_type": "code",
      "metadata": {
        "id": "iXT-HSQTBTxf",
        "colab_type": "code",
        "colab": {
          "base_uri": "https://localhost:8080/",
          "height": 153
        },
        "outputId": "77da016f-e7a2-43de-ceb5-a22dca37f2e7"
      },
      "source": [
        "users = {\n",
        " 'aeinstein': {\n",
        " 'first': 'albert',\n",
        " 'last': 'einstein',\n",
        " 'location': 'princeton',\n",
        " },\n",
        " 'mcurie': {\n",
        " 'first': 'marie',\n",
        " 'last': 'curie',\n",
        " 'location': 'paris',\n",
        " },\n",
        " }\n",
        "for username, user_dict in users.items():\n",
        " print(\"\\nUsername: \" + username)\n",
        " full_name = user_dict['first'] + \" \"\n",
        " full_name += user_dict['last']\n",
        " location = user_dict['location']\n",
        " print(\"\\tFull name: \" + full_name.title())\n",
        " print(\"\\tLocation: \" + location.title())\n"
      ],
      "execution_count": 16,
      "outputs": [
        {
          "output_type": "stream",
          "text": [
            "\n",
            "Username: aeinstein\n",
            "\tFull name: Albert Einstein\n",
            "\tLocation: Princeton\n",
            "\n",
            "Username: mcurie\n",
            "\tFull name: Marie Curie\n",
            "\tLocation: Paris\n"
          ],
          "name": "stdout"
        }
      ]
    },
    {
      "cell_type": "markdown",
      "metadata": {
        "id": "GnPhTJYBBXAw",
        "colab_type": "text"
      },
      "source": [
        "### Levels of nesting\n",
        "Nesting is extremely useful in certain situations. However, be aware of making your code overly complex. If you're nesting items much deeper than what you see here there are probably simpler ways of managing your data, such as using classes.\n"
      ]
    },
    {
      "cell_type": "markdown",
      "metadata": {
        "id": "jdC7jGfkM_gS",
        "colab_type": "text"
      },
      "source": [
        "### Using an OrderedDict\n",
        "Standard Python dictionaries don't keep track of the order in which keys and values are added; they only preserve the association between each key and its value. If you want to preserve the order in which keys and values are added, use an OrderedDict.\n"
      ]
    },
    {
      "cell_type": "markdown",
      "metadata": {
        "id": "Ud3fPOfVBXJn",
        "colab_type": "text"
      },
      "source": [
        "#### Preserving the order of keys and values"
      ]
    },
    {
      "cell_type": "code",
      "metadata": {
        "id": "eMGMy1uABXWe",
        "colab_type": "code",
        "colab": {
          "base_uri": "https://localhost:8080/",
          "height": 204
        },
        "outputId": "0d9a9173-da4a-4035-9308-41b6616379d3"
      },
      "source": [
        "from collections import OrderedDict\n",
        "# Store each person's languages, keeping\n",
        "# track of who respoded first.\n",
        "fav_languages = OrderedDict()\n",
        "fav_languages['jen'] = ['python', 'ruby']\n",
        "fav_languages['sarah'] = ['c']\n",
        "fav_languages['edward'] = ['ruby', 'go']\n",
        "fav_languages['phil'] = ['python', 'haskell']\n",
        "# Display the results, in the same order they\n",
        "# were entered.\n",
        "for name, langs in fav_languages.items():\n",
        " print(name + \":\")\n",
        " for lang in langs:\n",
        "  print(\"- \" + lang)"
      ],
      "execution_count": 17,
      "outputs": [
        {
          "output_type": "stream",
          "text": [
            "jen:\n",
            "- python\n",
            "- ruby\n",
            "sarah:\n",
            "- c\n",
            "edward:\n",
            "- ruby\n",
            "- go\n",
            "phil:\n",
            "- python\n",
            "- haskell\n"
          ],
          "name": "stdout"
        }
      ]
    },
    {
      "cell_type": "markdown",
      "metadata": {
        "id": "sv82-Kx8BXgO",
        "colab_type": "text"
      },
      "source": [
        "### Generating a million dictionaries\n",
        "You can use a loop to generate a large number of\n",
        "dictionaries efficiently, if all the dictionaries start out with\n",
        "similar data."
      ]
    },
    {
      "cell_type": "markdown",
      "metadata": {
        "id": "0fwITS9GNTWu",
        "colab_type": "text"
      },
      "source": [
        "#### A million aliens"
      ]
    },
    {
      "cell_type": "code",
      "metadata": {
        "id": "8iZAcQcsBXs2",
        "colab_type": "code",
        "colab": {
          "base_uri": "https://localhost:8080/",
          "height": 51
        },
        "outputId": "ec089d04-7e0d-44a1-984c-a15552866faa"
      },
      "source": [
        "aliens = []\n",
        "# Make a million green aliens, worth 5 points\n",
        "# each. Have them all start in one row.\n",
        "for alien_num in range(1000000):\n",
        " new_alien = {}\n",
        " new_alien['color'] = 'green'\n",
        " new_alien['points'] = 5\n",
        " new_alien['x'] = 20 * alien_num\n",
        " new_alien['y'] = 0\n",
        " aliens.append(new_alien)\n",
        "# Prove the list contains a million aliens.\n",
        "num_aliens = len(aliens)\n",
        "print(\"Number of aliens created:\")\n",
        "print(num_aliens)"
      ],
      "execution_count": 18,
      "outputs": [
        {
          "output_type": "stream",
          "text": [
            "Number of aliens created:\n",
            "1000000\n"
          ],
          "name": "stdout"
        }
      ]
    }
  ]
}