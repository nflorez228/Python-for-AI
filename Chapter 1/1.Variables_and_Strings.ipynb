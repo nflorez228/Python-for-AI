{
  "nbformat": 4,
  "nbformat_minor": 0,
  "metadata": {
    "colab": {
      "name": "Variables and Strings",
      "provenance": [],
      "collapsed_sections": [],
      "toc_visible": true,
      "include_colab_link": true
    },
    "kernelspec": {
      "display_name": "Python 3",
      "name": "python3"
    }
  },
  "cells": [
    {
      "cell_type": "markdown",
      "metadata": {
        "id": "view-in-github",
        "colab_type": "text"
      },
      "source": [
        "<a href=\"https://colab.research.google.com/github/nflorez228/Python-for-AI/blob/master/Chapter%201/1.Variables_and_Strings.ipynb\" target=\"_parent\"><img src=\"https://colab.research.google.com/assets/colab-badge.svg\" alt=\"Open In Colab\"/></a>"
      ]
    },
    {
      "cell_type": "markdown",
      "metadata": {
        "colab_type": "text",
        "id": "5fCEDCU_qrC0"
      },
      "source": [
        "<h1>Variables and Strings</h1>\n",
        "\n",
        "In this notebook you will learn about variables and how to show their content.Variables are containers used to store values of different kinds like numbers, characters, texts, lists, matrixes.\n",
        "\n",
        "A String is a series of characters, surrounded by single or double quotes."
      ]
    },
    {
      "cell_type": "markdown",
      "metadata": {
        "colab_type": "text",
        "id": "GJBs_flRovLc"
      },
      "source": [
        "### Hello World\n",
        "\n",
        "When programming there is a common practice and is for the programmer to know a proggram is succesfully running to show or print a *'Hello World!'* text.\n",
        "\n",
        "To show/print something you can use the command `print()` the content to be printed must be inside the brackets `()`\n",
        "\n",
        "In the next example we will try to print the text Hello World!, to achieve that we used a String as mentioned before, you can associate String equals to text, just that you know String is the name given many many years ago in programming.\n",
        "\n",
        "Remember a String must be surrounded by single `' '` or double cuotes `\" \"`\n",
        "\n",
        "`\"This is a String/text\"`\n",
        "\n",
        "`'This is also a String/text'`\n",
        "\n",
        "`This is not a String/text`\n",
        "\n",
        "`'This is also not a String/text\"` - Notice that begins with single quotes and ends with double quotes. Remember that a String begins with single or double quotes and it must end the same."
      ]
    },
    {
      "cell_type": "code",
      "metadata": {
        "colab_type": "code",
        "id": "gJr_9dXGpJ05",
        "colab": {}
      },
      "source": [
        "print(\"Hello world!\")"
      ],
      "execution_count": 0,
      "outputs": []
    },
    {
      "cell_type": "markdown",
      "metadata": {
        "colab_type": "text",
        "id": "2fhs6GZ4qFMx"
      },
      "source": [
        "Si quieres ejecutar el código de la celda anterior, haz clic para seleccionarlo y pulsa el botón de reproducir situado a la izquierda del código o usa la combinación de teclas \"Comando/Ctrl + Intro\".\n",
        "\n",
        "Todas las celdas modifican el mismo estado global, por lo que las variables que definas al ejecutar una celda se pueden usar en otras celdas"
      ]
    },
    {
      "cell_type": "markdown",
      "metadata": {
        "id": "E-oxGww6tRP8",
        "colab_type": "text"
      },
      "source": [
        "### Hello World with a variable\n",
        "\n",
        "Notice that we previously used a String directly into the `print()` function. But that doesnt mean that we used a Variable to store that String.\n",
        "\n",
        "To declare variables that contains our data in this case the message that contains the text \"Hello World\" we use the following convention:\n",
        "\n",
        "NameOfVariable = TheContentOfVariable\n",
        "\n",
        "so if we need a variable 'msg' that contains \"Hello world\" we should put  msg = \"Hello world\" and form there we can use the name of the variable to be used. For example print it:"
      ]
    },
    {
      "cell_type": "code",
      "metadata": {
        "colab_type": "code",
        "id": "-gE-Ez1qtyIA",
        "colab": {}
      },
      "source": [
        "msg = \"Hello world\"\n",
        "print(msg)"
      ],
      "execution_count": 0,
      "outputs": []
    },
    {
      "cell_type": "markdown",
      "metadata": {
        "id": "uZ6fW4I63-GV",
        "colab_type": "text"
      },
      "source": [
        "Now why not for you to try and change the variable?\n",
        "in the following code space try to print the text \"this is my first text\""
      ]
    },
    {
      "cell_type": "code",
      "metadata": {
        "id": "_ifEZFeg4J1B",
        "colab_type": "code",
        "colab": {}
      },
      "source": [
        "mymsg = ...\n",
        "print(...)"
      ],
      "execution_count": 0,
      "outputs": []
    },
    {
      "cell_type": "markdown",
      "metadata": {
        "colab_type": "text",
        "id": "-Rh3-Vt9Nev9"
      },
      "source": [
        "### Concatenation (combining strings)\n",
        "\n",
        "You can use different variables for multiple purposes, one of the many used by Strings is to concatenate or combine different Strings.\n",
        "The next example uses two variables first and last name the idea is to combine them to make the full name and then print it"
      ]
    },
    {
      "cell_type": "code",
      "metadata": {
        "id": "J7DsLelXtdPT",
        "colab_type": "code",
        "colab": {}
      },
      "source": [
        "first_name = 'Albert'\n",
        "last_name = 'Einstein'\n",
        "full_name = first_name + ' ' + last_name\n",
        "print(full_name)"
      ],
      "execution_count": 0,
      "outputs": []
    },
    {
      "cell_type": "markdown",
      "metadata": {
        "id": "V7HXOAsd463Q",
        "colab_type": "text"
      },
      "source": [
        "Now, in the following code space try to do your name... dont worry this is completely annonymus and does not store your name, or try to complete your concatenation code with anything that comes to yur mind."
      ]
    },
    {
      "cell_type": "code",
      "metadata": {
        "id": "JPjdhr0I46PR",
        "colab_type": "code",
        "colab": {}
      },
      "source": [
        "msg1 = ...\n",
        "... = ...\n",
        "full_msg = msg1 + ' ' + ...\n",
        "print(...)"
      ],
      "execution_count": 0,
      "outputs": []
    }
  ]
}