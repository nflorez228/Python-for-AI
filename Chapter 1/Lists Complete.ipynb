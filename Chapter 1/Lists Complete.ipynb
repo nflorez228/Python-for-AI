{
  "nbformat": 4,
  "nbformat_minor": 0,
  "metadata": {
    "colab": {
      "name": "Lists",
      "provenance": [],
      "collapsed_sections": [],
      "toc_visible": true,
      "include_colab_link": true
    },
    "kernelspec": {
      "display_name": "Python 3",
      "name": "python3"
    }
  },
  "cells": [
    {
      "cell_type": "markdown",
      "metadata": {
        "id": "view-in-github",
        "colab_type": "text"
      },
      "source": [
        "<a href=\"https://colab.research.google.com/github/nflorez228/Python-for-AI/blob/master/Chapter%201/Lists%20Complete.ipynb\" target=\"_parent\"><img src=\"https://colab.research.google.com/assets/colab-badge.svg\" alt=\"Open In Colab\"/></a>"
      ]
    },
    {
      "cell_type": "markdown",
      "metadata": {
        "colab_type": "text",
        "id": "5fCEDCU_qrC0"
      },
      "source": [
        "<h1>Lists</h1>\n",
        "\n",
        "\n",
        "A list stores a series of items in a particular order. Lists allow you to store sets of information in one\n",
        "place, whether you have just a few items or millions\n",
        "of items. Lists are one of Python's most powerful\n",
        "features readily accessible to new programmers, and\n",
        "they tie together many important concepts in\n",
        "programming.\n"
      ]
    },
    {
      "cell_type": "markdown",
      "metadata": {
        "colab_type": "text",
        "id": "GJBs_flRovLc"
      },
      "source": [
        "### Defining a list\n",
        "Use square brackets to define a list, and use commas to\n",
        "separate individual items in the list. Use plural names for lists, to make your code easier to read. "
      ]
    },
    {
      "cell_type": "markdown",
      "metadata": {
        "id": "CLCj6gGN3NwA",
        "colab_type": "text"
      },
      "source": [
        "#### Making a list"
      ]
    },
    {
      "cell_type": "code",
      "metadata": {
        "colab_type": "code",
        "id": "gJr_9dXGpJ05",
        "colab": {}
      },
      "source": [
        "users = ['Val', 'Bob', 'Mia', 'Ron', 'Ned']"
      ],
      "execution_count": 0,
      "outputs": []
    },
    {
      "cell_type": "markdown",
      "metadata": {
        "colab_type": "text",
        "id": "2fhs6GZ4qFMx"
      },
      "source": [
        "### Accessing elements\n",
        "Individual elements in a list are accessed according to their\n",
        "position, called the index. The index of the first element is\n",
        "0, the index of the second element is 1, and so forth.\n",
        "Negative indices refer to items at the end of the list. To get\n",
        "a particular element, write the name of the list and then the\n",
        "index of the element in square brackets.\n"
      ]
    },
    {
      "cell_type": "markdown",
      "metadata": {
        "id": "OPlFCYfO3h2A",
        "colab_type": "text"
      },
      "source": [
        "#### Getting the first element"
      ]
    },
    {
      "cell_type": "code",
      "metadata": {
        "id": "o4PAqSOBwuhG",
        "colab_type": "code",
        "colab": {}
      },
      "source": [
        "first_user = users[0]\n",
        "print(first_user)"
      ],
      "execution_count": 0,
      "outputs": []
    },
    {
      "cell_type": "markdown",
      "metadata": {
        "id": "TDg4SDfv3rpz",
        "colab_type": "text"
      },
      "source": [
        "#### Getting the second element"
      ]
    },
    {
      "cell_type": "code",
      "metadata": {
        "id": "N9GYQirt3r43",
        "colab_type": "code",
        "colab": {}
      },
      "source": [
        "second_user = users[1]\n",
        "print(second_user)"
      ],
      "execution_count": 0,
      "outputs": []
    },
    {
      "cell_type": "markdown",
      "metadata": {
        "id": "ytZw1Cnl3r-l",
        "colab_type": "text"
      },
      "source": [
        "#### Getting the last element"
      ]
    },
    {
      "cell_type": "code",
      "metadata": {
        "id": "LQ4fW00K3sF8",
        "colab_type": "code",
        "colab": {}
      },
      "source": [
        "newest_user = users[-1]\n",
        "print(newest_user)"
      ],
      "execution_count": 0,
      "outputs": []
    },
    {
      "cell_type": "markdown",
      "metadata": {
        "id": "E-oxGww6tRP8",
        "colab_type": "text"
      },
      "source": [
        "### Modifying individual items\n",
        "Once you've defined a list, you can change individual\n",
        "elements in the list. You do this by referring to the index of the item you want to modify."
      ]
    },
    {
      "cell_type": "markdown",
      "metadata": {
        "id": "MrsNEMXN4DoI",
        "colab_type": "text"
      },
      "source": [
        "#### Changing an element"
      ]
    },
    {
      "cell_type": "code",
      "metadata": {
        "id": "E9mzP-fn4my9",
        "colab_type": "code",
        "colab": {}
      },
      "source": [
        "print(users)"
      ],
      "execution_count": 0,
      "outputs": []
    },
    {
      "cell_type": "code",
      "metadata": {
        "colab_type": "code",
        "id": "-gE-Ez1qtyIA",
        "colab": {}
      },
      "source": [
        "users[0] = 'Valerie'\n",
        "users[-2] = 'Ronald'\n",
        "print(users)"
      ],
      "execution_count": 0,
      "outputs": []
    },
    {
      "cell_type": "markdown",
      "metadata": {
        "colab_type": "text",
        "id": "-Rh3-Vt9Nev9"
      },
      "source": [
        "### Adding elements\n",
        "You can add elements to the end of a list, or you can insert them wherever you like in a list.\n"
      ]
    },
    {
      "cell_type": "markdown",
      "metadata": {
        "id": "-mLzeQss41zx",
        "colab_type": "text"
      },
      "source": [
        "#### Adding an element to the end of the list"
      ]
    },
    {
      "cell_type": "code",
      "metadata": {
        "id": "J7DsLelXtdPT",
        "colab_type": "code",
        "colab": {}
      },
      "source": [
        "users.append('Amy')\n",
        "print(users)"
      ],
      "execution_count": 0,
      "outputs": []
    },
    {
      "cell_type": "markdown",
      "metadata": {
        "id": "sko7SYpSxNC8",
        "colab_type": "text"
      },
      "source": [
        "#### Starting with an empty list"
      ]
    },
    {
      "cell_type": "code",
      "metadata": {
        "id": "5SBJ_Aaq5TrY",
        "colab_type": "code",
        "colab": {}
      },
      "source": [
        "users = []\n",
        "print(users)"
      ],
      "execution_count": 0,
      "outputs": []
    },
    {
      "cell_type": "code",
      "metadata": {
        "id": "j4AtKZ6i5Mhz",
        "colab_type": "code",
        "colab": {}
      },
      "source": [
        "users.append('Val')\n",
        "users.append('Bob')\n",
        "users.append('Mia')\n",
        "print(users)"
      ],
      "execution_count": 0,
      "outputs": []
    },
    {
      "cell_type": "markdown",
      "metadata": {
        "id": "Mm-SD34J5dJW",
        "colab_type": "text"
      },
      "source": [
        "#### Inserting elements at a particular position"
      ]
    },
    {
      "cell_type": "code",
      "metadata": {
        "id": "jZPFINIC5dN4",
        "colab_type": "code",
        "colab": {}
      },
      "source": [
        "users.insert(0, 'Joe')\n",
        "users.insert(3, 'Bea')\n",
        "print(users)"
      ],
      "execution_count": 0,
      "outputs": []
    },
    {
      "cell_type": "markdown",
      "metadata": {
        "id": "WAwKLC2W5zSG",
        "colab_type": "text"
      },
      "source": [
        "### Removing elements\n",
        "You can remove elements by their position in a list, or by the value of the item. If you remove an item by its value, Python removes only the first item that has that value."
      ]
    },
    {
      "cell_type": "markdown",
      "metadata": {
        "id": "oA51rcAC587i",
        "colab_type": "text"
      },
      "source": [
        "#### Deleting an element by its position\n"
      ]
    },
    {
      "cell_type": "code",
      "metadata": {
        "id": "2GLNzfuJ5-qF",
        "colab_type": "code",
        "colab": {}
      },
      "source": [
        "del users[-1]\n",
        "print(users)"
      ],
      "execution_count": 0,
      "outputs": []
    },
    {
      "cell_type": "markdown",
      "metadata": {
        "id": "i1jCiAZ65-zo",
        "colab_type": "text"
      },
      "source": [
        "#### Removing an item by its value"
      ]
    },
    {
      "cell_type": "code",
      "metadata": {
        "id": "DSsA6Nfj5-40",
        "colab_type": "code",
        "colab": {}
      },
      "source": [
        "users.remove('Joe')\n",
        "print(users)"
      ],
      "execution_count": 0,
      "outputs": []
    },
    {
      "cell_type": "markdown",
      "metadata": {
        "id": "Su7N_8X29XXF",
        "colab_type": "text"
      },
      "source": [
        "### Popping elements\n",
        "If you want to work with an element that you're removing from the list, you can \"pop\" the element. If you think of the list as a stack of items, pop() takes an item off the top of the stack. By default pop() returns the last element in the list, but you can also pop elements from any position in the list."
      ]
    },
    {
      "cell_type": "markdown",
      "metadata": {
        "id": "6kWFdA729Xbd",
        "colab_type": "text"
      },
      "source": [
        "#### Pop the last item from a list"
      ]
    },
    {
      "cell_type": "code",
      "metadata": {
        "id": "2LtsL8XG9XzJ",
        "colab_type": "code",
        "colab": {}
      },
      "source": [
        "most_recent_user = users.pop()\n",
        "print(most_recent_user)"
      ],
      "execution_count": 0,
      "outputs": []
    },
    {
      "cell_type": "markdown",
      "metadata": {
        "id": "Fkkasi0Z9YDw",
        "colab_type": "text"
      },
      "source": [
        "#### Pop the first item in a list"
      ]
    },
    {
      "cell_type": "code",
      "metadata": {
        "id": "Ob2dWxBe9YKB",
        "colab_type": "code",
        "colab": {}
      },
      "source": [
        "first_user = users.pop(0)\n",
        "print(first_user)"
      ],
      "execution_count": 0,
      "outputs": []
    },
    {
      "cell_type": "markdown",
      "metadata": {
        "id": "oWhumWdm9sOe",
        "colab_type": "text"
      },
      "source": [
        "### List lenght\n",
        "The len() function returns the number of items in a list."
      ]
    },
    {
      "cell_type": "markdown",
      "metadata": {
        "id": "geepFUtZ9sUl",
        "colab_type": "text"
      },
      "source": [
        "#### Find the length of a list"
      ]
    },
    {
      "cell_type": "code",
      "metadata": {
        "id": "VeOFGahw9sfB",
        "colab_type": "code",
        "colab": {}
      },
      "source": [
        "num_users = len(users)\n",
        "print(\"We have \" + str(num_users) + \" users.\")"
      ],
      "execution_count": 0,
      "outputs": []
    },
    {
      "cell_type": "markdown",
      "metadata": {
        "id": "0tPyqUPl-ARP",
        "colab_type": "text"
      },
      "source": [
        "### Sorting a list\n",
        "The sort() method changes the order of a list permanently. The sorted() function returns a copy of the list, leaving the original list unchanged. You can sort the items in a list in alphabetical order, or reverse alphabetical order. You can also reverse the original order of the list. Keep in mind that lowercase and uppercase letters may affect the sort order.\n"
      ]
    },
    {
      "cell_type": "markdown",
      "metadata": {
        "id": "f8YP5rzY-AU5",
        "colab_type": "text"
      },
      "source": [
        "#### Sorting a list permanently"
      ]
    },
    {
      "cell_type": "code",
      "metadata": {
        "id": "U3-ZELv4-AxA",
        "colab_type": "code",
        "colab": {}
      },
      "source": [
        "users.sort()"
      ],
      "execution_count": 0,
      "outputs": []
    },
    {
      "cell_type": "markdown",
      "metadata": {
        "id": "3WQoilrc-A_n",
        "colab_type": "text"
      },
      "source": [
        "#### Sorting a list permanently in reverse alphabetical order"
      ]
    },
    {
      "cell_type": "code",
      "metadata": {
        "id": "MAr_UzF8-BIl",
        "colab_type": "code",
        "colab": {}
      },
      "source": [
        "users.sort(reverse=True)"
      ],
      "execution_count": 0,
      "outputs": []
    },
    {
      "cell_type": "markdown",
      "metadata": {
        "id": "TQhZRtHy-BRZ",
        "colab_type": "text"
      },
      "source": [
        "#### Sorting a list temporarily"
      ]
    },
    {
      "cell_type": "code",
      "metadata": {
        "id": "4x4Hj7vI-Ban",
        "colab_type": "code",
        "colab": {}
      },
      "source": [
        "print(sorted(users))\n",
        "print(sorted(users, reverse=True))"
      ],
      "execution_count": 0,
      "outputs": []
    },
    {
      "cell_type": "markdown",
      "metadata": {
        "id": "kcAK0DwP-Bjy",
        "colab_type": "text"
      },
      "source": [
        "#### Reversing the order of a list"
      ]
    },
    {
      "cell_type": "code",
      "metadata": {
        "id": "ulN6OcB3-Bq5",
        "colab_type": "code",
        "colab": {}
      },
      "source": [
        "users.reverse()"
      ],
      "execution_count": 0,
      "outputs": []
    },
    {
      "cell_type": "markdown",
      "metadata": {
        "id": "oJboXZVgBRgB",
        "colab_type": "text"
      },
      "source": [
        "### Looping through a list\n",
        "Lists can contain millions of items, so Python provides an efficient way to loop through all the items in a list. When you set up a loop, Python pulls each item from the list one at a time and stores it in a temporary variable, which you provide a name for. This name should be the singular\n",
        "version of the list name.\n",
        "\n",
        " The indented block of code makes up the body of the loop, where you can work with each individual item. Any lines that are not indented run after the loop is  completed.\n"
      ]
    },
    {
      "cell_type": "markdown",
      "metadata": {
        "id": "wu1hvFzBBRnq",
        "colab_type": "text"
      },
      "source": [
        "#### Printing all items in a list\n"
      ]
    },
    {
      "cell_type": "code",
      "metadata": {
        "id": "qwy98MpwBRyP",
        "colab_type": "code",
        "colab": {}
      },
      "source": [
        "for user in users:\n",
        " print(user)"
      ],
      "execution_count": 0,
      "outputs": []
    },
    {
      "cell_type": "markdown",
      "metadata": {
        "id": "TAauoxHLBSBr",
        "colab_type": "text"
      },
      "source": [
        "#### Printing a message for each item, and a separate message afterwards"
      ]
    },
    {
      "cell_type": "code",
      "metadata": {
        "id": "ep5S4vRmBSK5",
        "colab_type": "code",
        "colab": {}
      },
      "source": [
        "for user in users:\n",
        " print(\"Welcome, \" + user + \"!\")\n",
        "print(\"Welcome, we're glad to see you all!\")"
      ],
      "execution_count": 0,
      "outputs": []
    },
    {
      "cell_type": "markdown",
      "metadata": {
        "id": "c_pv2_TEBTXq",
        "colab_type": "text"
      },
      "source": [
        "### The range() function\n",
        "You can use the range() function to work with a set of\n",
        "numbers efficiently. The range() function starts at 0 by default, and stops one number below the number passed to it. You can use the list() function to efficiently generate a large list of numbers.\n"
      ]
    },
    {
      "cell_type": "markdown",
      "metadata": {
        "id": "fkli3wBaBTjI",
        "colab_type": "text"
      },
      "source": [
        "#### Printing the numbers 0 to 1000"
      ]
    },
    {
      "cell_type": "code",
      "metadata": {
        "id": "iXT-HSQTBTxf",
        "colab_type": "code",
        "colab": {}
      },
      "source": [
        "for number in range(1001):\n",
        " print(number)"
      ],
      "execution_count": 0,
      "outputs": []
    },
    {
      "cell_type": "markdown",
      "metadata": {
        "id": "z7HSm48EBT9Q",
        "colab_type": "text"
      },
      "source": [
        "#### Printing the numbers 1 to 1000"
      ]
    },
    {
      "cell_type": "code",
      "metadata": {
        "id": "LXL37YNZBUG2",
        "colab_type": "code",
        "colab": {}
      },
      "source": [
        "for number in range(1, 1001):\n",
        " print(number)"
      ],
      "execution_count": 0,
      "outputs": []
    },
    {
      "cell_type": "markdown",
      "metadata": {
        "id": "HgpPTBxqBVse",
        "colab_type": "text"
      },
      "source": [
        "#### Making a list of numbers from 1 to a million"
      ]
    },
    {
      "cell_type": "code",
      "metadata": {
        "id": "XjzCTXJkBV0b",
        "colab_type": "code",
        "colab": {}
      },
      "source": [
        "numbers = list(range(1, 1000001))"
      ],
      "execution_count": 0,
      "outputs": []
    },
    {
      "cell_type": "markdown",
      "metadata": {
        "id": "GnPhTJYBBXAw",
        "colab_type": "text"
      },
      "source": [
        "### Simple statistics\n",
        "There are a number of simple statistics you can run on a list containing numerical data."
      ]
    },
    {
      "cell_type": "markdown",
      "metadata": {
        "id": "Ud3fPOfVBXJn",
        "colab_type": "text"
      },
      "source": [
        "#### Finding the minimum value in a list"
      ]
    },
    {
      "cell_type": "code",
      "metadata": {
        "id": "eMGMy1uABXWe",
        "colab_type": "code",
        "colab": {}
      },
      "source": [
        "ages = [93, 99, 66, 17, 85, 1, 35, 82, 2, 77]\n",
        "youngest = min(ages)"
      ],
      "execution_count": 0,
      "outputs": []
    },
    {
      "cell_type": "markdown",
      "metadata": {
        "id": "sv82-Kx8BXgO",
        "colab_type": "text"
      },
      "source": [
        "#### Finding the maximum value"
      ]
    },
    {
      "cell_type": "code",
      "metadata": {
        "id": "8iZAcQcsBXs2",
        "colab_type": "code",
        "colab": {}
      },
      "source": [
        "ages = [93, 99, 66, 17, 85, 1, 35, 82, 2, 77]\n",
        "oldest = max(ages)"
      ],
      "execution_count": 0,
      "outputs": []
    },
    {
      "cell_type": "markdown",
      "metadata": {
        "id": "Qxw41ClWBX2H",
        "colab_type": "text"
      },
      "source": [
        "#### Finding the sum of all values"
      ]
    },
    {
      "cell_type": "code",
      "metadata": {
        "id": "_J369e3ZBX-I",
        "colab_type": "code",
        "colab": {}
      },
      "source": [
        "ages = [93, 99, 66, 17, 85, 1, 35, 82, 2, 77]\n",
        "total_years = sum(ages)"
      ],
      "execution_count": 0,
      "outputs": []
    },
    {
      "cell_type": "markdown",
      "metadata": {
        "id": "MkPcCzQaBY1x",
        "colab_type": "text"
      },
      "source": [
        "### Slicing a list\n",
        "You can work with any set of elements from a list. A portion of a list is called a slice. To slice a list start with the index of the first item you want, then add a colon and the index after the last item you want. Leave off the first index to start at the beginning of the list, and leave off the last index to slice through the end of the list."
      ]
    },
    {
      "cell_type": "markdown",
      "metadata": {
        "id": "0k5VGXRUBY8D",
        "colab_type": "text"
      },
      "source": [
        "#### Getting the first three items"
      ]
    },
    {
      "cell_type": "code",
      "metadata": {
        "id": "FjXSGtlABZE_",
        "colab_type": "code",
        "colab": {}
      },
      "source": [
        "finishers = ['kai', 'abe', 'ada', 'gus', 'zoe']\n",
        "first_three = finishers[:3]"
      ],
      "execution_count": 0,
      "outputs": []
    },
    {
      "cell_type": "markdown",
      "metadata": {
        "id": "cgKuOIXwBZa-",
        "colab_type": "text"
      },
      "source": [
        "#### Getting the middle three items"
      ]
    },
    {
      "cell_type": "code",
      "metadata": {
        "id": "HPRBzX5mBZ02",
        "colab_type": "code",
        "colab": {}
      },
      "source": [
        "middle_three = finishers[1:4]"
      ],
      "execution_count": 0,
      "outputs": []
    },
    {
      "cell_type": "markdown",
      "metadata": {
        "id": "VDV7D045BZ_D",
        "colab_type": "text"
      },
      "source": [
        "#### Getting the last three items"
      ]
    },
    {
      "cell_type": "code",
      "metadata": {
        "id": "Tbt0EO-XBaIZ",
        "colab_type": "code",
        "colab": {}
      },
      "source": [
        "last_three = finishers[-3:]"
      ],
      "execution_count": 0,
      "outputs": []
    },
    {
      "cell_type": "markdown",
      "metadata": {
        "id": "yPSj1UJHBaxo",
        "colab_type": "text"
      },
      "source": [
        "### Copying a list\n",
        "To copy a list make a slice that starts at the first item and ends at the last item. If you try to copy a list without using this approach, whatever you do to the copied list will affect the original list as well.\n"
      ]
    },
    {
      "cell_type": "markdown",
      "metadata": {
        "id": "uk5nBp3XBa5v",
        "colab_type": "text"
      },
      "source": [
        "#### Making a copy of a list"
      ]
    },
    {
      "cell_type": "code",
      "metadata": {
        "id": "VOeUtSZBBbCz",
        "colab_type": "code",
        "colab": {}
      },
      "source": [
        "finishers = ['kai', 'abe', 'ada', 'gus', 'zoe']\n",
        "copy_of_finishers = finishers[:]"
      ],
      "execution_count": 0,
      "outputs": []
    },
    {
      "cell_type": "markdown",
      "metadata": {
        "id": "u7AlzjXUBbwz",
        "colab_type": "text"
      },
      "source": [
        "### List comprehensions\n",
        "You can use a loop to generate a list based on a range of numbers or on another list. This is a common operation, so Python offers a more efficient way to do it. List comprehensions may look complicated at first; if so, use the for loop approach until you're ready to start using comprehensions.\n",
        "\n",
        " To write a comprehension, define an expression for the\n",
        "values you want to store in the list. Then write a for loop to generate input values needed to make the list."
      ]
    },
    {
      "cell_type": "markdown",
      "metadata": {
        "id": "TgKkAVaQBb4C",
        "colab_type": "text"
      },
      "source": [
        "#### Using a loop to generate a list of square numbers"
      ]
    },
    {
      "cell_type": "code",
      "metadata": {
        "id": "1FhXg8N5BdFh",
        "colab_type": "code",
        "colab": {}
      },
      "source": [
        "squares = []\n",
        "for x in range(1, 11):\n",
        " square = x**2\n",
        " squares.append(square)"
      ],
      "execution_count": 0,
      "outputs": []
    },
    {
      "cell_type": "markdown",
      "metadata": {
        "id": "VEhXrclEBdaj",
        "colab_type": "text"
      },
      "source": [
        "### Using a comprehension to generate a list of square numbers"
      ]
    },
    {
      "cell_type": "code",
      "metadata": {
        "id": "D6uzNmlrBdis",
        "colab_type": "code",
        "colab": {}
      },
      "source": [
        "squares = [x**2 for x in range(1, 11)]"
      ],
      "execution_count": 0,
      "outputs": []
    },
    {
      "cell_type": "markdown",
      "metadata": {
        "id": "WKVJQ-gSBeB0",
        "colab_type": "text"
      },
      "source": [
        "#### Using a loop to convert a list of names to upper case"
      ]
    },
    {
      "cell_type": "code",
      "metadata": {
        "id": "dT8DFfjvBeLF",
        "colab_type": "code",
        "colab": {}
      },
      "source": [
        "names = ['kai', 'abe', 'ada', 'gus', 'zoe']\n",
        "upper_names = []\n",
        "for name in names:\n",
        " upper_names.append(name.upper())"
      ],
      "execution_count": 0,
      "outputs": []
    },
    {
      "cell_type": "markdown",
      "metadata": {
        "id": "E5eXY2_OBekk",
        "colab_type": "text"
      },
      "source": [
        "#### Using a comprehension to convert a list of names to upper case\n"
      ]
    },
    {
      "cell_type": "code",
      "metadata": {
        "id": "GYg0_RbIBexL",
        "colab_type": "code",
        "colab": {}
      },
      "source": [
        "names = ['kai', 'abe', 'ada', 'gus', 'zoe']\n",
        "upper_names = [name.upper() for name in names]"
      ],
      "execution_count": 0,
      "outputs": []
    },
    {
      "cell_type": "markdown",
      "metadata": {
        "id": "OMOEgY1GBj2U",
        "colab_type": "text"
      },
      "source": [
        "#### Styling your code\n",
        "Readability counts"
      ]
    },
    {
      "cell_type": "markdown",
      "metadata": {
        "id": "N6fumf8cBj9f",
        "colab_type": "text"
      },
      "source": [
        "*   Use four spaces per indentation level.\n",
        "*   Keep your lines to 79 characters or fewer.\n",
        "*   Use single blank lines to group parts of your\n",
        "program visually."
      ]
    },
    {
      "cell_type": "markdown",
      "metadata": {
        "id": "JYyCLpkCBkm1",
        "colab_type": "text"
      },
      "source": [
        "### Tuples\n",
        "A tuple is like a list, except you can't change the values in a tuple once it's defined. Tuples are good for storing information that shouldn't be changed throughout the life of a program. Tuples are designated by parentheses instead of square brackets. (You can overwrite an entire tuple, but you can't change the individual elements in a tuple.)\n"
      ]
    },
    {
      "cell_type": "markdown",
      "metadata": {
        "id": "Iz6b3EzpBkuX",
        "colab_type": "text"
      },
      "source": [
        "#### Defining a tuple"
      ]
    },
    {
      "cell_type": "code",
      "metadata": {
        "id": "F4GUwAOjBk-c",
        "colab_type": "code",
        "colab": {}
      },
      "source": [
        "dimensions = (800, 600)"
      ],
      "execution_count": 0,
      "outputs": []
    },
    {
      "cell_type": "markdown",
      "metadata": {
        "id": "SAhAxCFgBlQx",
        "colab_type": "text"
      },
      "source": [
        "#### Looping through a tuple"
      ]
    },
    {
      "cell_type": "code",
      "metadata": {
        "id": "N_OM-OdkBlaj",
        "colab_type": "code",
        "colab": {}
      },
      "source": [
        "for dimension in dimensions:\n",
        " print(dimension)"
      ],
      "execution_count": 0,
      "outputs": []
    },
    {
      "cell_type": "markdown",
      "metadata": {
        "id": "cyB0QdHFBlm7",
        "colab_type": "text"
      },
      "source": [
        "#### Overwriting a tuple"
      ]
    },
    {
      "cell_type": "code",
      "metadata": {
        "id": "Rmnrzg7DBlwd",
        "colab_type": "code",
        "colab": {}
      },
      "source": [
        "dimensions = (800, 600)\n",
        "print(dimensions)\n",
        "dimensions = (1200, 900)"
      ],
      "execution_count": 0,
      "outputs": []
    },
    {
      "cell_type": "markdown",
      "metadata": {
        "id": "vBHBdU57BmCn",
        "colab_type": "text"
      },
      "source": [
        "## Visualizing your code\n",
        "When you're first learning about data structures such as lists, it helps to visualize how Python is working with the information in your program. pythontutor.com is a great tool for seeing how Python keeps track of the information in a list. Try running the following code, and then run your own code."
      ]
    },
    {
      "cell_type": "markdown",
      "metadata": {
        "id": "9aFo92H-BmLl",
        "colab_type": "text"
      },
      "source": [
        "#### Build a list and print the items in the list\n",
        "\n"
      ]
    },
    {
      "cell_type": "code",
      "metadata": {
        "id": "O7pTpleFBmay",
        "colab_type": "code",
        "colab": {}
      },
      "source": [
        "dogs = []\n",
        "dogs.append('willie')\n",
        "dogs.append('hootz')\n",
        "dogs.append('peso')\n",
        "dogs.append('goblin')\n",
        "for dog in dogs:\n",
        " print(\"Hello \" + dog + \"!\")\n",
        "print(\"I love these dogs!\")\n",
        "print(\"\\nThese were my first two dogs:\")\n",
        "old_dogs = dogs[:2]\n",
        "for old_dog in old_dogs:\n",
        " print(old_dog)\n",
        "del dogs[0]\n",
        "dogs.remove('peso')\n",
        "print(dogs)"
      ],
      "execution_count": 0,
      "outputs": []
    }
  ]
}