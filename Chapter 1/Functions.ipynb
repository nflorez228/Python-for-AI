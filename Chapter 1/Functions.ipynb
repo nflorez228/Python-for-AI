{
  "nbformat": 4,
  "nbformat_minor": 0,
  "metadata": {
    "colab": {
      "name": "Functions",
      "provenance": [],
      "collapsed_sections": [],
      "toc_visible": true,
      "include_colab_link": true
    },
    "kernelspec": {
      "display_name": "Python 3",
      "name": "python3"
    }
  },
  "cells": [
    {
      "cell_type": "markdown",
      "metadata": {
        "id": "view-in-github",
        "colab_type": "text"
      },
      "source": [
        "<a href=\"https://colab.research.google.com/github/nflorez228/Python-for-AI/blob/master/Chapter%201/Functions.ipynb\" target=\"_parent\"><img src=\"https://colab.research.google.com/assets/colab-badge.svg\" alt=\"Open In Colab\"/></a>"
      ]
    },
    {
      "cell_type": "markdown",
      "metadata": {
        "colab_type": "text",
        "id": "5fCEDCU_qrC0"
      },
      "source": [
        "<h1>If Statements and While Loops</h1>\n",
        "\n",
        "\n",
        "If statements allow you to examine the current state\n",
        "of a program and respond appropriately to that state.\n",
        "You can write a simple if statement that checks one\n",
        "condition, or you can create a complex series of if\n",
        "statements that idenitfy the exact conditions you're\n",
        "looking for.\n",
        "\n",
        "While loops run as long as certain conditions remain\n",
        "true. You can use while loops to let your programs\n",
        "run as long as your users want them to."
      ]
    },
    {
      "cell_type": "markdown",
      "metadata": {
        "colab_type": "text",
        "id": "GJBs_flRovLc"
      },
      "source": [
        "### Conditional Tests\n",
        "A conditional test is an expression that can be evaluated as True or False. Python uses the values True and False to decide whether the code in an if statement should be executed."
      ]
    },
    {
      "cell_type": "markdown",
      "metadata": {
        "id": "CLCj6gGN3NwA",
        "colab_type": "text"
      },
      "source": [
        "#### Checking for equality\n",
        "*A single equal sign assigns a value to a variable. A double equal sign (==) checks whether two values are equal*"
      ]
    },
    {
      "cell_type": "code",
      "metadata": {
        "colab_type": "code",
        "id": "gJr_9dXGpJ05",
        "colab": {
          "base_uri": "https://localhost:8080/",
          "height": 34
        },
        "outputId": "126f643a-d60e-4660-adee-d653c512b305"
      },
      "source": [
        "car = \"bmw\"\n",
        "car == \"bmw\""
      ],
      "execution_count": 1,
      "outputs": [
        {
          "output_type": "execute_result",
          "data": {
            "text/plain": [
              "True"
            ]
          },
          "metadata": {
            "tags": []
          },
          "execution_count": 1
        }
      ]
    },
    {
      "cell_type": "code",
      "metadata": {
        "id": "4_BI378OVEfv",
        "colab_type": "code",
        "colab": {
          "base_uri": "https://localhost:8080/",
          "height": 34
        },
        "outputId": "d6d89aaf-2947-44a8-c433-4532302796e4"
      },
      "source": [
        "car = \"audi\"\n",
        "car == \"bmw\""
      ],
      "execution_count": 2,
      "outputs": [
        {
          "output_type": "execute_result",
          "data": {
            "text/plain": [
              "False"
            ]
          },
          "metadata": {
            "tags": []
          },
          "execution_count": 2
        }
      ]
    },
    {
      "cell_type": "markdown",
      "metadata": {
        "id": "Xye-NufCVcu3",
        "colab_type": "text"
      },
      "source": [
        "#### Ignoring case when making a comparison"
      ]
    },
    {
      "cell_type": "code",
      "metadata": {
        "id": "Gj7gnhQRVfAT",
        "colab_type": "code",
        "colab": {
          "base_uri": "https://localhost:8080/",
          "height": 34
        },
        "outputId": "bd9c71ed-39d7-423f-8c0a-fd52c409bcc4"
      },
      "source": [
        "car = 'Audi'\n",
        "car.lower() == 'audi'"
      ],
      "execution_count": 3,
      "outputs": [
        {
          "output_type": "execute_result",
          "data": {
            "text/plain": [
              "True"
            ]
          },
          "metadata": {
            "tags": []
          },
          "execution_count": 3
        }
      ]
    },
    {
      "cell_type": "markdown",
      "metadata": {
        "id": "THCIQGC4Vitf",
        "colab_type": "text"
      },
      "source": [
        "#### Checking for inequality"
      ]
    },
    {
      "cell_type": "code",
      "metadata": {
        "id": "Y99huHySVi10",
        "colab_type": "code",
        "colab": {
          "base_uri": "https://localhost:8080/",
          "height": 34
        },
        "outputId": "dc8c9f66-2127-4ec8-805d-d0f917c5b2a8"
      },
      "source": [
        "topping = 'mushrooms'\n",
        "topping != 'anchovies'"
      ],
      "execution_count": 4,
      "outputs": [
        {
          "output_type": "execute_result",
          "data": {
            "text/plain": [
              "True"
            ]
          },
          "metadata": {
            "tags": []
          },
          "execution_count": 4
        }
      ]
    },
    {
      "cell_type": "markdown",
      "metadata": {
        "colab_type": "text",
        "id": "2fhs6GZ4qFMx"
      },
      "source": [
        "### Numerical comparisons\n",
        "Testing numerical values is similar to testing string values.\n"
      ]
    },
    {
      "cell_type": "markdown",
      "metadata": {
        "id": "OPlFCYfO3h2A",
        "colab_type": "text"
      },
      "source": [
        "#### Testing equality and inequality\n"
      ]
    },
    {
      "cell_type": "code",
      "metadata": {
        "id": "o4PAqSOBwuhG",
        "colab_type": "code",
        "outputId": "2064d83b-fb77-4395-fa22-183db8e33e5e",
        "colab": {
          "base_uri": "https://localhost:8080/",
          "height": 34
        }
      },
      "source": [
        "age = 18\n",
        "age == 18\n",
        "age != 18 "
      ],
      "execution_count": 5,
      "outputs": [
        {
          "output_type": "execute_result",
          "data": {
            "text/plain": [
              "False"
            ]
          },
          "metadata": {
            "tags": []
          },
          "execution_count": 5
        }
      ]
    },
    {
      "cell_type": "markdown",
      "metadata": {
        "id": "TDg4SDfv3rpz",
        "colab_type": "text"
      },
      "source": [
        "#### Comparison operators"
      ]
    },
    {
      "cell_type": "code",
      "metadata": {
        "id": "N9GYQirt3r43",
        "colab_type": "code",
        "outputId": "348e61a9-2d07-4e06-bc5d-871f18af76d4",
        "colab": {
          "base_uri": "https://localhost:8080/",
          "height": 34
        }
      },
      "source": [
        "age = 19\n",
        "age < 21\n",
        "age <= 21\n",
        "age > 21\n",
        "age >= 21"
      ],
      "execution_count": 6,
      "outputs": [
        {
          "output_type": "execute_result",
          "data": {
            "text/plain": [
              "False"
            ]
          },
          "metadata": {
            "tags": []
          },
          "execution_count": 6
        }
      ]
    },
    {
      "cell_type": "markdown",
      "metadata": {
        "id": "E-oxGww6tRP8",
        "colab_type": "text"
      },
      "source": [
        "### Checking multiple conditions\n",
        "You can check multiple conditions at the same time. The\n",
        "and operator returns True if all the conditions listed are True. The or operator returns True if any condition is True."
      ]
    },
    {
      "cell_type": "markdown",
      "metadata": {
        "id": "MrsNEMXN4DoI",
        "colab_type": "text"
      },
      "source": [
        "#### Using and to check multiple conditions"
      ]
    },
    {
      "cell_type": "code",
      "metadata": {
        "id": "E9mzP-fn4my9",
        "colab_type": "code",
        "colab": {
          "base_uri": "https://localhost:8080/",
          "height": 34
        },
        "outputId": "6607c596-c6e2-4ff3-87bf-67790a967c14"
      },
      "source": [
        "age_0 = 22\n",
        "age_1 = 18\n",
        "age_0 >= 21 and age_1 >= 21\n",
        "age_1 = 23\n",
        "age_0 >= 21 and age_1 >= 21"
      ],
      "execution_count": 7,
      "outputs": [
        {
          "output_type": "execute_result",
          "data": {
            "text/plain": [
              "True"
            ]
          },
          "metadata": {
            "tags": []
          },
          "execution_count": 7
        }
      ]
    },
    {
      "cell_type": "markdown",
      "metadata": {
        "id": "tgmcTkjVHSDw",
        "colab_type": "text"
      },
      "source": [
        "#### Using or to check multiple conditions"
      ]
    },
    {
      "cell_type": "code",
      "metadata": {
        "id": "-rvqfNmzHTAl",
        "colab_type": "code",
        "colab": {
          "base_uri": "https://localhost:8080/",
          "height": 34
        },
        "outputId": "7591be28-6901-4717-fcae-a8ac07983b55"
      },
      "source": [
        "age_0 = 22\n",
        "age_1 = 18\n",
        "age_0 >= 21 or age_1 >= 21\n",
        "age_0 = 18\n",
        "age_0 >= 21 or age_1 >= 21"
      ],
      "execution_count": 8,
      "outputs": [
        {
          "output_type": "execute_result",
          "data": {
            "text/plain": [
              "False"
            ]
          },
          "metadata": {
            "tags": []
          },
          "execution_count": 8
        }
      ]
    },
    {
      "cell_type": "markdown",
      "metadata": {
        "colab_type": "text",
        "id": "-Rh3-Vt9Nev9"
      },
      "source": [
        "### Boolean values\n",
        "A boolean value is either True or False. Variables with\n",
        "boolean values are often used to keep track of certain\n",
        "conditions within a program."
      ]
    },
    {
      "cell_type": "markdown",
      "metadata": {
        "id": "-mLzeQss41zx",
        "colab_type": "text"
      },
      "source": [
        "#### Simple boolean values"
      ]
    },
    {
      "cell_type": "code",
      "metadata": {
        "id": "J7DsLelXtdPT",
        "colab_type": "code",
        "colab": {}
      },
      "source": [
        "game_active = True\n",
        "can_edit = False"
      ],
      "execution_count": 0,
      "outputs": []
    },
    {
      "cell_type": "markdown",
      "metadata": {
        "id": "WAwKLC2W5zSG",
        "colab_type": "text"
      },
      "source": [
        "### If statements\n",
        "Several kinds of if statements exist. Your choice of which to use depends on the number of conditions you need to test.\n",
        "You can have as many elif blocks as you need, and the\n",
        "else block is always optional."
      ]
    },
    {
      "cell_type": "markdown",
      "metadata": {
        "id": "oA51rcAC587i",
        "colab_type": "text"
      },
      "source": [
        "#### Simple if statement\n"
      ]
    },
    {
      "cell_type": "code",
      "metadata": {
        "id": "2GLNzfuJ5-qF",
        "colab_type": "code",
        "outputId": "6e550215-0568-41e2-b914-03fff512632a",
        "colab": {
          "base_uri": "https://localhost:8080/",
          "height": 34
        }
      },
      "source": [
        "age = 19\n",
        "if age >= 18:\n",
        " print(\"You're old enough to vote!\")"
      ],
      "execution_count": 10,
      "outputs": [
        {
          "output_type": "stream",
          "text": [
            "You're old enough to vote!\n"
          ],
          "name": "stdout"
        }
      ]
    },
    {
      "cell_type": "markdown",
      "metadata": {
        "id": "O_2zH27fWtuJ",
        "colab_type": "text"
      },
      "source": [
        "#### If-else statements"
      ]
    },
    {
      "cell_type": "code",
      "metadata": {
        "id": "BHJHxGQuWt2i",
        "colab_type": "code",
        "colab": {
          "base_uri": "https://localhost:8080/",
          "height": 34
        },
        "outputId": "ef9d805d-33de-47ff-c72d-417e3ebf8d22"
      },
      "source": [
        "age = 17\n",
        "if age >= 18:\n",
        " print(\"You're old enough to vote!\")\n",
        "else:\n",
        " print(\"You can't vote yet.\")"
      ],
      "execution_count": 11,
      "outputs": [
        {
          "output_type": "stream",
          "text": [
            "You can't vote yet.\n"
          ],
          "name": "stdout"
        }
      ]
    },
    {
      "cell_type": "markdown",
      "metadata": {
        "id": "uUcas84sWt-7",
        "colab_type": "text"
      },
      "source": [
        "#### The if-elif-else chain"
      ]
    },
    {
      "cell_type": "code",
      "metadata": {
        "id": "Iu79HuFPWuIx",
        "colab_type": "code",
        "colab": {
          "base_uri": "https://localhost:8080/",
          "height": 34
        },
        "outputId": "cbfc8baa-960e-4e0d-a59f-7e033d62dec0"
      },
      "source": [
        "age = 12\n",
        "if age < 4:\n",
        " price = 0\n",
        "elif age < 18:\n",
        " price = 5\n",
        "else:\n",
        " price = 10\n",
        "print(\"Your cost is $\" + str(price) + \".\")"
      ],
      "execution_count": 12,
      "outputs": [
        {
          "output_type": "stream",
          "text": [
            "Your cost is $5.\n"
          ],
          "name": "stdout"
        }
      ]
    },
    {
      "cell_type": "markdown",
      "metadata": {
        "id": "Su7N_8X29XXF",
        "colab_type": "text"
      },
      "source": [
        "### Conditional tests with lists\n",
        "You can easily test whether a certain value is in a list. You can also test whether a list is empty before trying to loop through the list."
      ]
    },
    {
      "cell_type": "markdown",
      "metadata": {
        "id": "6kWFdA729Xbd",
        "colab_type": "text"
      },
      "source": [
        "#### Testing if a value is in a list"
      ]
    },
    {
      "cell_type": "code",
      "metadata": {
        "id": "2LtsL8XG9XzJ",
        "colab_type": "code",
        "outputId": "e1544c41-b7a6-4fbb-9dd4-59cd2e335576",
        "colab": {
          "base_uri": "https://localhost:8080/",
          "height": 34
        }
      },
      "source": [
        "players = ['al', 'bea', 'cyn', 'dale']\n",
        "'al' in players\n",
        "'eric' in players"
      ],
      "execution_count": 13,
      "outputs": [
        {
          "output_type": "execute_result",
          "data": {
            "text/plain": [
              "False"
            ]
          },
          "metadata": {
            "tags": []
          },
          "execution_count": 13
        }
      ]
    },
    {
      "cell_type": "markdown",
      "metadata": {
        "id": "Fkkasi0Z9YDw",
        "colab_type": "text"
      },
      "source": [
        "#### Testing if a value is not in a list"
      ]
    },
    {
      "cell_type": "code",
      "metadata": {
        "id": "Ob2dWxBe9YKB",
        "colab_type": "code",
        "outputId": "8f48cac8-1c91-476a-e856-855219e1ca74",
        "colab": {
          "base_uri": "https://localhost:8080/",
          "height": 34
        }
      },
      "source": [
        "banned_users = ['ann', 'chad', 'dee']\n",
        "user = 'erin'\n",
        "if user not in banned_users:\n",
        " print(\"You can play!\")"
      ],
      "execution_count": 14,
      "outputs": [
        {
          "output_type": "stream",
          "text": [
            "You can play!\n"
          ],
          "name": "stdout"
        }
      ]
    },
    {
      "cell_type": "markdown",
      "metadata": {
        "id": "6zgwbNFCIq3e",
        "colab_type": "text"
      },
      "source": [
        "#### Checking if a list is empty"
      ]
    },
    {
      "cell_type": "code",
      "metadata": {
        "id": "6SYTileNIq_x",
        "colab_type": "code",
        "outputId": "3c4717c9-1be6-4598-931b-458e546b6c8e",
        "colab": {
          "base_uri": "https://localhost:8080/",
          "height": 129
        }
      },
      "source": [
        "players = []\n",
        "if players:\n",
        " for player in players:\n",
        " print(\"Player: \" + player.title())\n",
        "else:\n",
        " print(\"We have no players yet!\") "
      ],
      "execution_count": 14,
      "outputs": [
        {
          "output_type": "error",
          "ename": "IndentationError",
          "evalue": "ignored",
          "traceback": [
            "\u001b[0;36m  File \u001b[0;32m\"<ipython-input-15-d70951d89245>\"\u001b[0;36m, line \u001b[0;32m4\u001b[0m\n\u001b[0;31m    print(\"Player: \" + player.title())\u001b[0m\n\u001b[0m        ^\u001b[0m\n\u001b[0;31mIndentationError\u001b[0m\u001b[0;31m:\u001b[0m expected an indented block\n"
          ]
        }
      ]
    },
    {
      "cell_type": "markdown",
      "metadata": {
        "id": "oWhumWdm9sOe",
        "colab_type": "text"
      },
      "source": [
        "### Accepting input\n",
        "You can allow your users to enter input using the input() statement. In Python 3, all input is stored as a string.\n"
      ]
    },
    {
      "cell_type": "markdown",
      "metadata": {
        "id": "geepFUtZ9sUl",
        "colab_type": "text"
      },
      "source": [
        "#### Simple input"
      ]
    },
    {
      "cell_type": "code",
      "metadata": {
        "id": "VeOFGahw9sfB",
        "colab_type": "code",
        "colab": {
          "base_uri": "https://localhost:8080/",
          "height": 68
        },
        "outputId": "2f4e616b-c58c-490c-e1ab-b9c4290520c8"
      },
      "source": [
        "name = input(\"What's your name? \")\n",
        "print(\"Hello, \" + name + \".\")"
      ],
      "execution_count": 15,
      "outputs": [
        {
          "output_type": "stream",
          "text": [
            "ERROR! Session/line number was not unique in database. History logging moved to new session 64\n",
            "What's your name? John\n",
            "Hello, John.\n"
          ],
          "name": "stdout"
        }
      ]
    },
    {
      "cell_type": "markdown",
      "metadata": {
        "id": "s-skdtt_X9L_",
        "colab_type": "text"
      },
      "source": [
        "#### Accepting numerical input"
      ]
    },
    {
      "cell_type": "code",
      "metadata": {
        "id": "eeCwIqQmX9Uq",
        "colab_type": "code",
        "colab": {
          "base_uri": "https://localhost:8080/",
          "height": 68
        },
        "outputId": "20536343-ad0a-4da8-a8a0-bc4291f1f356"
      },
      "source": [
        "age = input(\"How old are you? \")\n",
        "age = int(age)\n",
        "if age >= 18:\n",
        " print(\"\\nYou can vote!\")\n",
        "else:\n",
        " print(\"\\nYou can't vote yet.\") "
      ],
      "execution_count": 16,
      "outputs": [
        {
          "output_type": "stream",
          "text": [
            "How old are you? 32\n",
            "\n",
            "You can vote!\n"
          ],
          "name": "stdout"
        }
      ]
    },
    {
      "cell_type": "markdown",
      "metadata": {
        "id": "w-eBCVhZX97R",
        "colab_type": "text"
      },
      "source": [
        "#### Accepting input in Python 2.7\n",
        "*Use raw_input() in Python 2.7. This function interprets all input as a string, just as input() does in Python 3.*"
      ]
    },
    {
      "cell_type": "code",
      "metadata": {
        "id": "l5TKsgmtX-CQ",
        "colab_type": "code",
        "colab": {
          "base_uri": "https://localhost:8080/",
          "height": 180
        },
        "outputId": "4111da2d-e4a2-4402-92d3-d876dd2c56f9"
      },
      "source": [
        "name = raw_input(\"What's your name? \")\n",
        "print(\"Hello, \" + name + \".\")"
      ],
      "execution_count": 17,
      "outputs": [
        {
          "output_type": "error",
          "ename": "NameError",
          "evalue": "ignored",
          "traceback": [
            "\u001b[0;31m---------------------------------------------------------------------------\u001b[0m",
            "\u001b[0;31mNameError\u001b[0m                                 Traceback (most recent call last)",
            "\u001b[0;32m<ipython-input-17-232b5884785a>\u001b[0m in \u001b[0;36m<module>\u001b[0;34m()\u001b[0m\n\u001b[0;32m----> 1\u001b[0;31m \u001b[0mname\u001b[0m \u001b[0;34m=\u001b[0m \u001b[0mraw_input\u001b[0m\u001b[0;34m(\u001b[0m\u001b[0;34m\"What's your name? \"\u001b[0m\u001b[0;34m)\u001b[0m\u001b[0;34m\u001b[0m\u001b[0;34m\u001b[0m\u001b[0m\n\u001b[0m\u001b[1;32m      2\u001b[0m \u001b[0mprint\u001b[0m\u001b[0;34m(\u001b[0m\u001b[0;34m\"Hello, \"\u001b[0m \u001b[0;34m+\u001b[0m \u001b[0mname\u001b[0m \u001b[0;34m+\u001b[0m \u001b[0;34m\".\"\u001b[0m\u001b[0;34m)\u001b[0m\u001b[0;34m\u001b[0m\u001b[0;34m\u001b[0m\u001b[0m\n",
            "\u001b[0;31mNameError\u001b[0m: name 'raw_input' is not defined"
          ]
        }
      ]
    },
    {
      "cell_type": "markdown",
      "metadata": {
        "id": "0tPyqUPl-ARP",
        "colab_type": "text"
      },
      "source": [
        "### While loops\n",
        "A while loop repeats a block of code as long as a condition is True.\n",
        "\n"
      ]
    },
    {
      "cell_type": "markdown",
      "metadata": {
        "id": "f8YP5rzY-AU5",
        "colab_type": "text"
      },
      "source": [
        "#### Counting to 5"
      ]
    },
    {
      "cell_type": "code",
      "metadata": {
        "id": "U3-ZELv4-AxA",
        "colab_type": "code",
        "outputId": "467e0aef-e1bb-4fe6-ecc2-34a6e7f3e3f7",
        "colab": {
          "base_uri": "https://localhost:8080/",
          "height": 102
        }
      },
      "source": [
        "current_number = 1\n",
        "while current_number <= 5:\n",
        " print(current_number)\n",
        " current_number += 1"
      ],
      "execution_count": 18,
      "outputs": [
        {
          "output_type": "stream",
          "text": [
            "1\n",
            "2\n",
            "3\n",
            "4\n",
            "5\n"
          ],
          "name": "stdout"
        }
      ]
    },
    {
      "cell_type": "markdown",
      "metadata": {
        "id": "3WQoilrc-A_n",
        "colab_type": "text"
      },
      "source": [
        "#### Letting the user choose when to quit"
      ]
    },
    {
      "cell_type": "code",
      "metadata": {
        "id": "MAr_UzF8-BIl",
        "colab_type": "code",
        "outputId": "aa63ad9c-80e7-4017-9777-f19607b1508a",
        "colab": {
          "base_uri": "https://localhost:8080/",
          "height": 136
        }
      },
      "source": [
        "prompt = \"\\nTell me something, and I'll \"\n",
        "prompt += \"repeat it back to you.\"\n",
        "prompt += \"\\nEnter 'quit' to end the program. \"\n",
        "message = \"\"\n",
        "while message != 'quit':\n",
        " message = input(prompt)\n",
        " if message != 'quit':\n",
        "  print(message)"
      ],
      "execution_count": 19,
      "outputs": [
        {
          "output_type": "stream",
          "text": [
            "\n",
            "Tell me something, and I'll repeat it back to you.\n",
            "Enter 'quit' to end the program. something\n",
            "something\n",
            "\n",
            "Tell me something, and I'll repeat it back to you.\n",
            "Enter 'quit' to end the program. quit\n"
          ],
          "name": "stdout"
        }
      ]
    },
    {
      "cell_type": "markdown",
      "metadata": {
        "id": "9kxv-qgfZZ5A",
        "colab_type": "text"
      },
      "source": [
        "#### Using a flag"
      ]
    },
    {
      "cell_type": "code",
      "metadata": {
        "id": "8iW3JgwyZaBq",
        "colab_type": "code",
        "colab": {
          "base_uri": "https://localhost:8080/",
          "height": 204
        },
        "outputId": "df49cece-25f3-4e6f-d326-c29c6f89c466"
      },
      "source": [
        "prompt = \"\\nTell me something, and I'll \"\n",
        "prompt += \"repeat it back to you.\"\n",
        "prompt += \"\\nEnter 'quit' to end the program. \"\n",
        "active = True\n",
        "while active:\n",
        " message = input(prompt)\n",
        " if message == 'quit':\n",
        "  active = False\n",
        " else:\n",
        "  print(message)"
      ],
      "execution_count": 21,
      "outputs": [
        {
          "output_type": "stream",
          "text": [
            "\n",
            "Tell me something, and I'll repeat it back to you.\n",
            "Enter 'quit' to end the program. something1\n",
            "something1\n",
            "\n",
            "Tell me something, and I'll repeat it back to you.\n",
            "Enter 'quit' to end the program. something2\n",
            "something2\n",
            "\n",
            "Tell me something, and I'll repeat it back to you.\n",
            "Enter 'quit' to end the program. quit\n"
          ],
          "name": "stdout"
        }
      ]
    },
    {
      "cell_type": "markdown",
      "metadata": {
        "id": "NTHVxT2kZaQb",
        "colab_type": "text"
      },
      "source": [
        "#### Using break to exit a loop\n",
        "You can use the break statement and the continue statement with any of Python's loops. For example you can use break to quit a for loop that's working through a list or a dictionary. You can use continue to skip over certain items when looping through a list or dictionary as well."
      ]
    },
    {
      "cell_type": "code",
      "metadata": {
        "id": "5pjnDuBQZaYk",
        "colab_type": "code",
        "colab": {
          "base_uri": "https://localhost:8080/",
          "height": 136
        },
        "outputId": "a9a5a44b-c80f-49fb-c644-bb0fb1c0a878"
      },
      "source": [
        "prompt = \"\\nWhat cities have you visited?\"\n",
        "prompt += \"\\nEnter 'quit' when you're done. \"\n",
        "while True:\n",
        " city = input(prompt)\n",
        " if city == 'quit':\n",
        "  break\n",
        " else:\n",
        "  print(\"I've been to \" + city + \"!\")"
      ],
      "execution_count": 22,
      "outputs": [
        {
          "output_type": "stream",
          "text": [
            "\n",
            "What cities have you visited?\n",
            "Enter 'quit' when you're done. Bogotá\n",
            "I've been to Bogotá!\n",
            "\n",
            "What cities have you visited?\n",
            "Enter 'quit' when you're done. quit\n"
          ],
          "name": "stdout"
        }
      ]
    },
    {
      "cell_type": "markdown",
      "metadata": {
        "id": "vbtgD0peaT9n",
        "colab_type": "text"
      },
      "source": [
        "#### Using continue in a loop\n"
      ]
    },
    {
      "cell_type": "code",
      "metadata": {
        "id": "_Vebp52KaUIS",
        "colab_type": "code",
        "colab": {
          "base_uri": "https://localhost:8080/",
          "height": 374
        },
        "outputId": "958c58bf-99cb-4f02-9d93-fc98b5e2955f"
      },
      "source": [
        "banned_users = ['eve', 'fred', 'gary', 'helen']\n",
        "prompt = \"\\nAdd a player to your team.\"\n",
        "prompt += \"\\nEnter 'quit' when you're done. \"\n",
        "players = []\n",
        "while True:\n",
        " player = input(prompt)\n",
        " if player == 'quit':\n",
        "  break\n",
        " elif player in banned_users:\n",
        "  print(player + \" is banned!\")\n",
        "  continue\n",
        " else:\n",
        "  players.append(player)\n",
        "print(\"\\nYour team:\")\n",
        "for player in players:\n",
        " print(player)"
      ],
      "execution_count": 23,
      "outputs": [
        {
          "output_type": "stream",
          "text": [
            "\n",
            "Add a player to your team.\n",
            "Enter 'quit' when you're done. John\n",
            "\n",
            "Add a player to your team.\n",
            "Enter 'quit' when you're done. Nicolas\n",
            "\n",
            "Add a player to your team.\n",
            "Enter 'quit' when you're done. eve\n",
            "eve is banned!\n",
            "\n",
            "Add a player to your team.\n",
            "Enter 'quit' when you're done. gary\n",
            "gary is banned!\n",
            "\n",
            "Add a player to your team.\n",
            "Enter 'quit' when you're done. quit\n",
            "\n",
            "Your team:\n",
            "John\n",
            "Nicolas\n"
          ],
          "name": "stdout"
        }
      ]
    },
    {
      "cell_type": "markdown",
      "metadata": {
        "id": "oJboXZVgBRgB",
        "colab_type": "text"
      },
      "source": [
        "### Avoiding infinite loops\n",
        "Every while loop needs a way to stop running so it won't continue to run forever. If there's no way for the condition to become False, the loop will never stop running.\n"
      ]
    },
    {
      "cell_type": "markdown",
      "metadata": {
        "id": "wu1hvFzBBRnq",
        "colab_type": "text"
      },
      "source": [
        "#### An infinite loop\n"
      ]
    },
    {
      "cell_type": "code",
      "metadata": {
        "id": "qwy98MpwBRyP",
        "colab_type": "code",
        "colab": {}
      },
      "source": [
        "while True:\n",
        " name = input(\"\\nWho are you? \")\n",
        " print(\"Nice to meet you, \" + name + \"!\")"
      ],
      "execution_count": 0,
      "outputs": []
    },
    {
      "cell_type": "markdown",
      "metadata": {
        "id": "c_pv2_TEBTXq",
        "colab_type": "text"
      },
      "source": [
        "### Removing all instances of a value from a list\n",
        "The remove() method removes a specific value from a list, but it only removes the first instance of the value you provide. You can use a while loop to remove all instances of a particular value. \n"
      ]
    },
    {
      "cell_type": "markdown",
      "metadata": {
        "id": "fkli3wBaBTjI",
        "colab_type": "text"
      },
      "source": [
        "#### Removing all cats from a list of pets\n"
      ]
    },
    {
      "cell_type": "code",
      "metadata": {
        "id": "iXT-HSQTBTxf",
        "colab_type": "code",
        "outputId": "55afb8fa-c130-471e-c264-faec06d6f6a9",
        "colab": {
          "base_uri": "https://localhost:8080/",
          "height": 51
        }
      },
      "source": [
        "pets = ['dog', 'cat', 'dog', 'fish', 'cat',\n",
        " 'rabbit', 'cat']\n",
        "print(pets)\n",
        "while 'cat' in pets:\n",
        " pets.remove('cat')\n",
        "print(pets)"
      ],
      "execution_count": 24,
      "outputs": [
        {
          "output_type": "stream",
          "text": [
            "['dog', 'cat', 'dog', 'fish', 'cat', 'rabbit', 'cat']\n",
            "['dog', 'dog', 'fish', 'rabbit']\n"
          ],
          "name": "stdout"
        }
      ]
    }
  ]
}