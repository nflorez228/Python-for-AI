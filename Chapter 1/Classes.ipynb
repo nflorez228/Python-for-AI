{
  "nbformat": 4,
  "nbformat_minor": 0,
  "metadata": {
    "colab": {
      "name": "Classes",
      "provenance": [],
      "collapsed_sections": [],
      "toc_visible": true,
      "include_colab_link": true
    },
    "kernelspec": {
      "display_name": "Python 3",
      "name": "python3"
    }
  },
  "cells": [
    {
      "cell_type": "markdown",
      "metadata": {
        "id": "view-in-github",
        "colab_type": "text"
      },
      "source": [
        "<a href=\"https://colab.research.google.com/github/nflorez228/Python-for-AI/blob/master/Chapter%201/Classes.ipynb\" target=\"_parent\"><img src=\"https://colab.research.google.com/assets/colab-badge.svg\" alt=\"Open In Colab\"/></a>"
      ]
    },
    {
      "cell_type": "markdown",
      "metadata": {
        "colab_type": "text",
        "id": "5fCEDCU_qrC0"
      },
      "source": [
        "<h1>Classes</h1>\n",
        "\n",
        "Classes are the foundation of object-oriented programming. Classes represent real-world things you want to model in your programs: for example\n",
        "dogs, cars, and robots. You use a class to make objects, which are specific instances of dogs, cars, and robots. A class defines the general behavior that\n",
        "a whole category of objects can have, and the information that can be associated with those objects.\n",
        "\n",
        " Classes can inherit from each other – you can write a class that extends the functionality of an existing class. This allows you to code efficiently for a\n",
        "wide variety of situations.\n",
        "\n"
      ]
    },
    {
      "cell_type": "markdown",
      "metadata": {
        "colab_type": "text",
        "id": "GJBs_flRovLc"
      },
      "source": [
        "### Creating and using a class\n",
        "Consider how we might model a car. What information would we associate with a car, and what behavior would it have? The information is stored in variables called attributes, and the behavior is represented by functions.\n",
        "\n",
        "Functions that are part of a class are called methods."
      ]
    },
    {
      "cell_type": "markdown",
      "metadata": {
        "id": "CLCj6gGN3NwA",
        "colab_type": "text"
      },
      "source": [
        "#### The Car class"
      ]
    },
    {
      "cell_type": "code",
      "metadata": {
        "colab_type": "code",
        "id": "gJr_9dXGpJ05",
        "colab": {}
      },
      "source": [
        "class Car():\n",
        " \"\"\"A simple attempt to model a car.\"\"\"\n",
        "\n",
        " def __init__(self, make, model, year):\n",
        "  \"\"\"Initialize car attributes.\"\"\"\n",
        "  self.make = make\n",
        "  self.model = model\n",
        "  self.year = year\n",
        "  # Fuel capacity and level in gallons.\n",
        "  self.fuel_capacity = 15\n",
        "  self.fuel_level = 0\n",
        " def fill_tank(self):\n",
        "  \"\"\"Fill gas tank to capacity.\"\"\"\n",
        "  self.fuel_level = self.fuel_capacity\n",
        "  print(\"Fuel tank is full.\")\n",
        "\n",
        " def drive(self):\n",
        "  \"\"\"Simulate driving.\"\"\"\n",
        "  print(\"The car is moving.\")"
      ],
      "execution_count": 0,
      "outputs": []
    },
    {
      "cell_type": "markdown",
      "metadata": {
        "id": "OPlFCYfO3h2A",
        "colab_type": "text"
      },
      "source": [
        "#### Creating an object from a class"
      ]
    },
    {
      "cell_type": "code",
      "metadata": {
        "id": "o4PAqSOBwuhG",
        "colab_type": "code",
        "colab": {}
      },
      "source": [
        "my_car = Car('audi', 'a4', 2016)"
      ],
      "execution_count": 0,
      "outputs": []
    },
    {
      "cell_type": "markdown",
      "metadata": {
        "id": "_HbUWFdizcw9",
        "colab_type": "text"
      },
      "source": [
        "#### Accessing attribute values"
      ]
    },
    {
      "cell_type": "code",
      "metadata": {
        "id": "i5TLysqBzc2o",
        "colab_type": "code",
        "colab": {}
      },
      "source": [
        "print(my_car.make)\n",
        "print(my_car.model)\n",
        "print(my_car.year)"
      ],
      "execution_count": 0,
      "outputs": []
    },
    {
      "cell_type": "markdown",
      "metadata": {
        "id": "lCKpjRT9jNv7",
        "colab_type": "text"
      },
      "source": [
        "#### Calling methods"
      ]
    },
    {
      "cell_type": "code",
      "metadata": {
        "id": "bHCCLEcHjN4U",
        "colab_type": "code",
        "colab": {}
      },
      "source": [
        "my_car.fill_tank()\n",
        "my_car.drive()"
      ],
      "execution_count": 0,
      "outputs": []
    },
    {
      "cell_type": "markdown",
      "metadata": {
        "id": "5JyJltT8jSwo",
        "colab_type": "text"
      },
      "source": [
        "#### Creating multiple objects"
      ]
    },
    {
      "cell_type": "code",
      "metadata": {
        "id": "_iE59D0VjS28",
        "colab_type": "code",
        "colab": {}
      },
      "source": [
        "my_car = Car('audi', 'a4', 2016)\n",
        "my_old_car = Car('subaru', 'outback', 2013)\n",
        "my_truck = Car('toyota', 'tacoma', 2010)"
      ],
      "execution_count": 0,
      "outputs": []
    },
    {
      "cell_type": "markdown",
      "metadata": {
        "id": "E-oxGww6tRP8",
        "colab_type": "text"
      },
      "source": [
        "### Modifying attributes\n",
        "You can modify an attribute's value directly, or you can\n",
        "write methods that manage updating values more carefully."
      ]
    },
    {
      "cell_type": "markdown",
      "metadata": {
        "id": "MrsNEMXN4DoI",
        "colab_type": "text"
      },
      "source": [
        "#### Modifying an attribute directly"
      ]
    },
    {
      "cell_type": "code",
      "metadata": {
        "id": "E9mzP-fn4my9",
        "colab_type": "code",
        "colab": {}
      },
      "source": [
        "my_new_car = Car('audi', 'a4', 2016)\n",
        "my_new_car.fuel_level = 5 "
      ],
      "execution_count": 0,
      "outputs": []
    },
    {
      "cell_type": "markdown",
      "metadata": {
        "id": "tgmcTkjVHSDw",
        "colab_type": "text"
      },
      "source": [
        "#### Writing a method to update an attribute's value"
      ]
    },
    {
      "cell_type": "code",
      "metadata": {
        "id": "-rvqfNmzHTAl",
        "colab_type": "code",
        "colab": {}
      },
      "source": [
        "def update_fuel_level(self, new_level):\n",
        " \"\"\"Update the fuel level.\"\"\"\n",
        " if new_level <= self.fuel_capacity:\n",
        "  self.fuel_level = new_level\n",
        " else:\n",
        "  print(\"The tank can't hold that much!\")"
      ],
      "execution_count": 0,
      "outputs": []
    },
    {
      "cell_type": "markdown",
      "metadata": {
        "id": "p9K5XEQBzyE1",
        "colab_type": "text"
      },
      "source": [
        "#### Writing a method to increment an attribute's value"
      ]
    },
    {
      "cell_type": "code",
      "metadata": {
        "id": "-FQ3aa_DzyLa",
        "colab_type": "code",
        "colab": {}
      },
      "source": [
        "def add_fuel(self, amount):\n",
        " \"\"\"Add fuel to the tank.\"\"\"\n",
        " if (self.fuel_level + amount <= self.fuel_capacity):\n",
        "  self.fuel_level += amount\n",
        "  print(\"Added fuel.\")\n",
        " else:\n",
        "  print(\"The tank won't hold that much.\")"
      ],
      "execution_count": 0,
      "outputs": []
    },
    {
      "cell_type": "markdown",
      "metadata": {
        "colab_type": "text",
        "id": "-Rh3-Vt9Nev9"
      },
      "source": [
        "### Naming conventions\n",
        "In Python class names are written in CamelCase and object names are written in lowercase with underscores. Modules that contain classes should still be named in lowercase with underscores."
      ]
    },
    {
      "cell_type": "markdown",
      "metadata": {
        "id": "zbHpbAPlkNRA",
        "colab_type": "text"
      },
      "source": [
        "### Class inheritance\n",
        "\n",
        "If the class you're writing is a specialized version of another class, you can use inheritance. When one class inherits from another, it automatically takes on all the attributes and methods of the parent class. The child class is free to introduce new attributes and methods, and override attributes and methods of the parent class.\n",
        "\n",
        " To inherit from another class include the name of the parent class in parentheses when defining the new class."
      ]
    },
    {
      "cell_type": "markdown",
      "metadata": {
        "id": "-mLzeQss41zx",
        "colab_type": "text"
      },
      "source": [
        "#### The __ init__() method for a child class"
      ]
    },
    {
      "cell_type": "code",
      "metadata": {
        "id": "J7DsLelXtdPT",
        "colab_type": "code",
        "colab": {}
      },
      "source": [
        "class ElectricCar(Car):\n",
        " \"\"\"A simple model of an electric car.\"\"\"\n",
        " def __init__(self, make, model, year):\n",
        "  \"\"\"Initialize an electric car.\"\"\"\n",
        "  super().__init__(make, model, year)\n",
        "  # Attributes specific to electric cars.\n",
        "  # Battery capacity in kWh.\n",
        "  self.battery_size = 70\n",
        "  # Charge level in %.\n",
        "  self.charge_level = 0"
      ],
      "execution_count": 0,
      "outputs": []
    },
    {
      "cell_type": "markdown",
      "metadata": {
        "id": "WWRkqHJLiLmv",
        "colab_type": "text"
      },
      "source": [
        "#### Adding new methods to the child class"
      ]
    },
    {
      "cell_type": "code",
      "metadata": {
        "id": "E_IYJO-1iLtx",
        "colab_type": "code",
        "colab": {}
      },
      "source": [
        "class ElectricCar(Car):\n",
        " \"\"\"A simple model of an electric car.\"\"\"\n",
        " \n",
        " def __init__(self, make, model, year):\n",
        "  \"\"\"Initialize an electric car.\"\"\"\n",
        "  super().__init__(make, model, year)\n",
        "  # Attributes specific to electric cars.\n",
        "  # Battery capacity in kWh.\n",
        "  self.battery_size = 70\n",
        "  # Charge level in %.\n",
        "  self.charge_level = 0\n",
        " \n",
        " def charge(self):\n",
        "  \"\"\"Fully charge the vehicle.\"\"\"\n",
        "  self.charge_level = 100\n",
        "  print(\"The vehicle is fully charged.\")"
      ],
      "execution_count": 0,
      "outputs": []
    },
    {
      "cell_type": "markdown",
      "metadata": {
        "id": "DQJPqL3T0Isv",
        "colab_type": "text"
      },
      "source": [
        "#### Using child methods and parent methods"
      ]
    },
    {
      "cell_type": "code",
      "metadata": {
        "id": "OZusHedH0I0Y",
        "colab_type": "code",
        "colab": {}
      },
      "source": [
        "my_ecar = ElectricCar('tesla', 'model s', 2016)\n",
        "my_ecar.charge()\n",
        "my_ecar.drive()"
      ],
      "execution_count": 0,
      "outputs": []
    },
    {
      "cell_type": "markdown",
      "metadata": {
        "id": "IBN0Lb6bk416",
        "colab_type": "text"
      },
      "source": [
        "#### Overriding parent methods"
      ]
    },
    {
      "cell_type": "code",
      "metadata": {
        "id": "6FjNraDgk47U",
        "colab_type": "code",
        "colab": {}
      },
      "source": [
        "class ElectricCar(Car):\n",
        " def fill_tank(self):\n",
        "  \"\"\"Display an error message.\"\"\"\n",
        "  print(\"This car has no fuel tank!\")"
      ],
      "execution_count": 0,
      "outputs": []
    },
    {
      "cell_type": "code",
      "metadata": {
        "id": "Oh5qPfD0PsIe",
        "colab_type": "code",
        "colab": {}
      },
      "source": [
        "my_ecar = ElectricCar('tesla', 'model s', 2016)\n",
        "my_ecar.fill_tank()"
      ],
      "execution_count": 0,
      "outputs": []
    },
    {
      "cell_type": "markdown",
      "metadata": {
        "id": "x-iAEc97ktuJ",
        "colab_type": "text"
      },
      "source": [
        "### Finding your workflow\n",
        "\n",
        "There are many ways to model real world objects and situations in code, and sometimes that variety can feel overwhelming. Pick an approach and try it – if your first attempt doesn't work, try a different approach. "
      ]
    },
    {
      "cell_type": "markdown",
      "metadata": {
        "id": "WAwKLC2W5zSG",
        "colab_type": "text"
      },
      "source": [
        "### Instances as attributes\n",
        "\n",
        "A class can have objects as attributes. This allows classes to work together to model complex situations."
      ]
    },
    {
      "cell_type": "markdown",
      "metadata": {
        "id": "oA51rcAC587i",
        "colab_type": "text"
      },
      "source": [
        "#### A Battery class\n"
      ]
    },
    {
      "cell_type": "code",
      "metadata": {
        "id": "2GLNzfuJ5-qF",
        "colab_type": "code",
        "colab": {}
      },
      "source": [
        "class Battery():\n",
        " \"\"\"A battery for an electric car.\"\"\"\n",
        " def __init__(self, size=70):\n",
        "  \"\"\"Initialize battery attributes.\"\"\"\n",
        "  # Capacity in kWh, charge level in %.\n",
        "  self.size = size\n",
        "  self.charge_level = 0\n",
        " def get_range(self):\n",
        "  \"\"\"Return the battery's range.\"\"\"\n",
        "  if self.size == 70:\n",
        "    return 240\n",
        "  elif self.size == 85:\n",
        "    return 270"
      ],
      "execution_count": 0,
      "outputs": []
    },
    {
      "cell_type": "markdown",
      "metadata": {
        "id": "O_2zH27fWtuJ",
        "colab_type": "text"
      },
      "source": [
        "#### Using an instance as an attribute"
      ]
    },
    {
      "cell_type": "code",
      "metadata": {
        "id": "BHJHxGQuWt2i",
        "colab_type": "code",
        "colab": {}
      },
      "source": [
        "class ElectricCar(Car):\n",
        " def __init__(self, make, model, year):\n",
        "  \"\"\"Initialize an electric car.\"\"\"\n",
        "  super().__init__(make, model, year)\n",
        "  # Attribute specific to electric cars.\n",
        "  self.battery = Battery()\n",
        " def charge(self):\n",
        "  \"\"\"Fully charge the vehicle.\"\"\"\n",
        "  self.battery.charge_level = 100\n",
        "  print(\"The vehicle is fully charged.\")"
      ],
      "execution_count": 0,
      "outputs": []
    },
    {
      "cell_type": "markdown",
      "metadata": {
        "id": "U_nwBJrnlMvR",
        "colab_type": "text"
      },
      "source": [
        "#### Using the instance"
      ]
    },
    {
      "cell_type": "code",
      "metadata": {
        "id": "VECHJ5CVlNIj",
        "colab_type": "code",
        "colab": {}
      },
      "source": [
        "my_ecar = ElectricCar('tesla', 'model x', 2016)\n",
        "my_ecar.charge()\n",
        "print(my_ecar.battery.get_range())\n",
        "my_ecar.drive()"
      ],
      "execution_count": 0,
      "outputs": []
    },
    {
      "cell_type": "markdown",
      "metadata": {
        "id": "Su7N_8X29XXF",
        "colab_type": "text"
      },
      "source": [
        "### Importing classes\n",
        "Class files can get long as you add detailed information and functionality. To help keep your program files uncluttered, you can store your classes in modules and import the classes you need into your main program."
      ]
    },
    {
      "cell_type": "markdown",
      "metadata": {
        "id": "6kWFdA729Xbd",
        "colab_type": "text"
      },
      "source": [
        "#### Storing classes in a file\n",
        "*car.py*\n",
        "\n",
        "\n",
        "\n",
        "``` python\n",
        "# \"\"\"Represent gas and electric cars.\"\"\"\n",
        "class Car():\n",
        " \"\"\"A simple attempt to model a car.\"\"\"\n",
        " --snip—\n",
        "class Battery():\n",
        " \"\"\"A battery for an electric car.\"\"\"\n",
        " --snip--\n",
        "class ElectricCar(Car):\n",
        " \"\"\"A simple model of an electric car.\"\"\"\n",
        " --snip--\n",
        "```\n",
        "\n"
      ]
    },
    {
      "cell_type": "code",
      "metadata": {
        "id": "THp8swCIOJJs",
        "colab_type": "code",
        "colab": {}
      },
      "source": [
        "import os\n",
        "import urllib.request\n",
        "urllib.request.urlretrieve('https://raw.githubusercontent.com/nflorez228/Python-for-AI/master/Chapter%201/Aditional%20Resources/Files/car.py', 'car.py')\n"
      ],
      "execution_count": 0,
      "outputs": []
    },
    {
      "cell_type": "markdown",
      "metadata": {
        "id": "Fkkasi0Z9YDw",
        "colab_type": "text"
      },
      "source": [
        "#### Importing individual classes from a module\n",
        "*my_cars.py*"
      ]
    },
    {
      "cell_type": "code",
      "metadata": {
        "id": "Ob2dWxBe9YKB",
        "colab_type": "code",
        "colab": {}
      },
      "source": [
        "from car import Car, ElectricCar\n",
        "my_beetle = Car('volkswagen', 'beetle', 2016)\n",
        "my_beetle.fill_tank()\n",
        "my_beetle.drive()\n",
        "my_tesla = ElectricCar('tesla', 'model s', 2016)\n",
        "my_tesla.charge()\n",
        "my_tesla.drive()"
      ],
      "execution_count": 0,
      "outputs": []
    },
    {
      "cell_type": "markdown",
      "metadata": {
        "id": "NdYFTpc4lnQF",
        "colab_type": "text"
      },
      "source": [
        "#### Importing an entire module"
      ]
    },
    {
      "cell_type": "code",
      "metadata": {
        "id": "n2O1R7pIlnXS",
        "colab_type": "code",
        "colab": {}
      },
      "source": [
        "import car\n",
        "my_beetle = car.Car(\n",
        " 'volkswagen', 'beetle', 2016)\n",
        "my_beetle.fill_tank()\n",
        "my_beetle.drive()\n",
        "my_tesla = car.ElectricCar(\n",
        " 'tesla', 'model s', 2016)\n",
        "my_tesla.charge()\n",
        "my_tesla.drive()"
      ],
      "execution_count": 0,
      "outputs": []
    },
    {
      "cell_type": "markdown",
      "metadata": {
        "id": "X7uZ68Hjlnfq",
        "colab_type": "text"
      },
      "source": [
        "#### Importing all classes from a module\n",
        "***(Don’t do this, but recognize it when you see it.)***"
      ]
    },
    {
      "cell_type": "code",
      "metadata": {
        "id": "6YIMKbCGlnmr",
        "colab_type": "code",
        "colab": {}
      },
      "source": [
        "from car import *\n",
        "my_beetle = Car('volkswagen', 'beetle', 2016)"
      ],
      "execution_count": 0,
      "outputs": []
    },
    {
      "cell_type": "markdown",
      "metadata": {
        "id": "6zgwbNFCIq3e",
        "colab_type": "text"
      },
      "source": [
        "### Storing objects in a list\n",
        "A list can hold as many items as you want, so you can make a large number of objects from a class and store them in a list.\n",
        "\n",
        " Here's an example showing how to make a fleet of rental cars, and make sure all the cars are ready to drive.\n"
      ]
    },
    {
      "cell_type": "markdown",
      "metadata": {
        "id": "geepFUtZ9sUl",
        "colab_type": "text"
      },
      "source": [
        "#### A fleet of rental cars"
      ]
    },
    {
      "cell_type": "code",
      "metadata": {
        "id": "VeOFGahw9sfB",
        "colab_type": "code",
        "colab": {}
      },
      "source": [
        "from car import Car, ElectricCar\n",
        "# Make lists to hold a fleet of cars.\n",
        "gas_fleet = []\n",
        "electric_fleet = []\n",
        "# Make 500 gas cars and 250 electric cars.\n",
        "for _ in range(500):\n",
        " car = Car('ford', 'focus', 2016)\n",
        " gas_fleet.append(car)\n",
        "for _ in range(250):\n",
        " ecar = ElectricCar('nissan', 'leaf', 2016)\n",
        " electric_fleet.append(ecar)\n",
        "# Fill the gas cars, and charge electric cars.\n",
        "for car in gas_fleet:\n",
        " car.fill_tank()\n",
        "for ecar in electric_fleet:\n",
        " ecar.charge()\n",
        "print(\"Gas cars:\", len(gas_fleet))\n",
        "print(\"Electric cars:\", len(electric_fleet))"
      ],
      "execution_count": 0,
      "outputs": []
    }
  ]
}