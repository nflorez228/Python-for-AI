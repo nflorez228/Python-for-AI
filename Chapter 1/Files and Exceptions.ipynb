{
  "nbformat": 4,
  "nbformat_minor": 0,
  "metadata": {
    "colab": {
      "name": "Functions",
      "provenance": [],
      "collapsed_sections": [],
      "toc_visible": true,
      "include_colab_link": true
    },
    "kernelspec": {
      "display_name": "Python 3",
      "name": "python3"
    }
  },
  "cells": [
    {
      "cell_type": "markdown",
      "metadata": {
        "id": "view-in-github",
        "colab_type": "text"
      },
      "source": [
        "<a href=\"https://colab.research.google.com/github/nflorez228/Python-for-AI/blob/master/Chapter%201/Files%20and%20Exceptions.ipynb\" target=\"_parent\"><img src=\"https://colab.research.google.com/assets/colab-badge.svg\" alt=\"Open In Colab\"/></a>"
      ]
    },
    {
      "cell_type": "markdown",
      "metadata": {
        "colab_type": "text",
        "id": "5fCEDCU_qrC0"
      },
      "source": [
        "<h1>Functions</h1>\n",
        "\n",
        "\n",
        "Functions are named blocks of code designed to do\n",
        "one specific job. Functions allow you to write code\n",
        "once that can then be run whenever you need to\n",
        "accomplish the same task. Functions can take in the\n",
        "information they need, and return the information they\n",
        "generate. Using functions effectively makes your\n",
        "programs easier to write, read, test, and fix."
      ]
    },
    {
      "cell_type": "markdown",
      "metadata": {
        "colab_type": "text",
        "id": "GJBs_flRovLc"
      },
      "source": [
        "### Defining Functions\n",
        "The first line of a function is its definition, marked by the keyword def. The name of the function is followed by a set of parentheses and a colon. A docstring, in triple quotes, describes what the function does. The body of a function is indented one level.\n",
        "\n",
        " To call a function, give the name of the function followed by a set of parentheses."
      ]
    },
    {
      "cell_type": "markdown",
      "metadata": {
        "id": "CLCj6gGN3NwA",
        "colab_type": "text"
      },
      "source": [
        "#### Making a function\n"
      ]
    },
    {
      "cell_type": "code",
      "metadata": {
        "colab_type": "code",
        "id": "gJr_9dXGpJ05",
        "colab": {}
      },
      "source": [
        "def greet_user():\n",
        " \"\"\"Display a simple greeting.\"\"\"\n",
        " print(\"Hello!\")\n",
        "greet_user()"
      ],
      "execution_count": 0,
      "outputs": []
    },
    {
      "cell_type": "markdown",
      "metadata": {
        "colab_type": "text",
        "id": "2fhs6GZ4qFMx"
      },
      "source": [
        "### Passing information to a function\n",
        "Information that's passed to a function is called an\n",
        "argument; information that's received by a function is called a parameter. Arguments are included in parentheses after the function's name, and parameters are listed in parentheses in the function's definition.\n"
      ]
    },
    {
      "cell_type": "markdown",
      "metadata": {
        "id": "OPlFCYfO3h2A",
        "colab_type": "text"
      },
      "source": [
        "#### Passing a single argument\n"
      ]
    },
    {
      "cell_type": "code",
      "metadata": {
        "id": "o4PAqSOBwuhG",
        "colab_type": "code",
        "colab": {}
      },
      "source": [
        "def greet_user(username):\n",
        " \"\"\"Display a simple greeting.\"\"\"\n",
        " print(\"Hello, \" + username + \"!\")\n",
        "greet_user('jesse')\n",
        "greet_user('diana')\n",
        "greet_user('brandon')"
      ],
      "execution_count": 0,
      "outputs": []
    },
    {
      "cell_type": "markdown",
      "metadata": {
        "id": "E-oxGww6tRP8",
        "colab_type": "text"
      },
      "source": [
        "### Positional and keyword arguments\n",
        "The two main kinds of arguments are positional and\n",
        "keyword arguments. When you use positional arguments\n",
        "Python matches the first argument in the function call with the first parameter in the function definition, and so forth.\n",
        "\n",
        " With keyword arguments, you specify which parameter\n",
        "each argument should be assigned to in the function call.\n",
        "When you use keyword arguments, the order of the\n",
        "arguments doesn't matter"
      ]
    },
    {
      "cell_type": "markdown",
      "metadata": {
        "id": "MrsNEMXN4DoI",
        "colab_type": "text"
      },
      "source": [
        "#### Using positional arguments"
      ]
    },
    {
      "cell_type": "code",
      "metadata": {
        "id": "E9mzP-fn4my9",
        "colab_type": "code",
        "colab": {}
      },
      "source": [
        "def describe_pet(animal, name):\n",
        " \"\"\"Display information about a pet.\"\"\"\n",
        " print(\"\\nI have a \" + animal + \".\")\n",
        " print(\"Its name is \" + name + \".\")\n",
        "describe_pet('hamster', 'harry')\n",
        "describe_pet('dog', 'willie')"
      ],
      "execution_count": 0,
      "outputs": []
    },
    {
      "cell_type": "markdown",
      "metadata": {
        "id": "tgmcTkjVHSDw",
        "colab_type": "text"
      },
      "source": [
        "#### Using keyword arguments"
      ]
    },
    {
      "cell_type": "code",
      "metadata": {
        "id": "-rvqfNmzHTAl",
        "colab_type": "code",
        "colab": {}
      },
      "source": [
        "def describe_pet(animal, name):\n",
        " \"\"\"Display information about a pet.\"\"\"\n",
        " print(\"\\nI have a \" + animal + \".\")\n",
        " print(\"Its name is \" + name + \".\")\n",
        "describe_pet(animal='hamster', name='harry')\n",
        "describe_pet(name='willie', animal='dog')"
      ],
      "execution_count": 0,
      "outputs": []
    },
    {
      "cell_type": "markdown",
      "metadata": {
        "colab_type": "text",
        "id": "-Rh3-Vt9Nev9"
      },
      "source": [
        "### Default values\n",
        "You can provide a default value for a parameter. When\n",
        "function calls omit this argument the default value will be used. Parameters with default values must be listed after parameters without default values in the function's definition so positional arguments can still work correctly."
      ]
    },
    {
      "cell_type": "markdown",
      "metadata": {
        "id": "-mLzeQss41zx",
        "colab_type": "text"
      },
      "source": [
        "#### Using a default value"
      ]
    },
    {
      "cell_type": "code",
      "metadata": {
        "id": "J7DsLelXtdPT",
        "colab_type": "code",
        "colab": {}
      },
      "source": [
        "def describe_pet(name, animal='dog'):\n",
        " \"\"\"Display information about a pet.\"\"\"\n",
        " print(\"\\nI have a \" + animal + \".\")\n",
        " print(\"Its name is \" + name + \".\")\n",
        "describe_pet('harry', 'hamster')\n",
        "describe_pet('willie')"
      ],
      "execution_count": 0,
      "outputs": []
    },
    {
      "cell_type": "markdown",
      "metadata": {
        "id": "WWRkqHJLiLmv",
        "colab_type": "text"
      },
      "source": [
        "#### Using None to make an argument optional\n"
      ]
    },
    {
      "cell_type": "code",
      "metadata": {
        "id": "E_IYJO-1iLtx",
        "colab_type": "code",
        "colab": {}
      },
      "source": [
        "def describe_pet(animal, name=None):\n",
        " \"\"\"Display information about a pet.\"\"\"\n",
        " print(\"\\nI have a \" + animal + \".\")\n",
        " if name:\n",
        "  print(\"Its name is \" + name + \".\")\n",
        "describe_pet('hamster', 'harry')\n",
        "describe_pet('snake')"
      ],
      "execution_count": 0,
      "outputs": []
    },
    {
      "cell_type": "markdown",
      "metadata": {
        "id": "WAwKLC2W5zSG",
        "colab_type": "text"
      },
      "source": [
        "### Return values\n",
        "A function can return a value or a set of values. When a function returns a value, the calling line must provide a variable in which to store the return value. A function stops running when it reaches a return statement.\n"
      ]
    },
    {
      "cell_type": "markdown",
      "metadata": {
        "id": "oA51rcAC587i",
        "colab_type": "text"
      },
      "source": [
        "#### Returning a single value\n"
      ]
    },
    {
      "cell_type": "code",
      "metadata": {
        "id": "2GLNzfuJ5-qF",
        "colab_type": "code",
        "colab": {}
      },
      "source": [
        "def get_full_name(first, last):\n",
        " \"\"\"Return a neatly formatted full name.\"\"\"\n",
        " full_name = first + ' ' + last\n",
        " return full_name.title()\n",
        "musician = get_full_name('jimi', 'hendrix')\n",
        "print(musician)"
      ],
      "execution_count": 0,
      "outputs": []
    },
    {
      "cell_type": "markdown",
      "metadata": {
        "id": "O_2zH27fWtuJ",
        "colab_type": "text"
      },
      "source": [
        "#### Returning a dictionary"
      ]
    },
    {
      "cell_type": "code",
      "metadata": {
        "id": "BHJHxGQuWt2i",
        "colab_type": "code",
        "colab": {}
      },
      "source": [
        "def build_person(first, last):\n",
        " \"\"\"Return a dictionary of information\n",
        " about a person.\n",
        " \"\"\"\n",
        " person = {'first': first, 'last': last}\n",
        " return person\n",
        "musician = build_person('jimi', 'hendrix')\n",
        "print(musician)"
      ],
      "execution_count": 0,
      "outputs": []
    },
    {
      "cell_type": "markdown",
      "metadata": {
        "id": "uUcas84sWt-7",
        "colab_type": "text"
      },
      "source": [
        "#### Returning a dictionary with optional values"
      ]
    },
    {
      "cell_type": "code",
      "metadata": {
        "id": "Iu79HuFPWuIx",
        "colab_type": "code",
        "colab": {}
      },
      "source": [
        "def build_person(first, last, age=None):\n",
        " \"\"\"Return a dictionary of information\n",
        " about a person.\n",
        " \"\"\"\n",
        " person = {'first': first, 'last': last}\n",
        " if age:\n",
        " person['age'] = age\n",
        " return person\n",
        "musician = build_person('jimi', 'hendrix', 27)\n",
        "print(musician)\n",
        "musician = build_person('janis', 'joplin')\n",
        "print(musician)"
      ],
      "execution_count": 0,
      "outputs": []
    },
    {
      "cell_type": "markdown",
      "metadata": {
        "id": "Su7N_8X29XXF",
        "colab_type": "text"
      },
      "source": [
        "### Passing a list to a function\n",
        "You can pass a list as an argument to a function, and the function can work with the values in the list. Any changes the function makes to the list will affect the original list. You can prevent a function from modifying a list by passing a copy of the list as an argument."
      ]
    },
    {
      "cell_type": "markdown",
      "metadata": {
        "id": "6kWFdA729Xbd",
        "colab_type": "text"
      },
      "source": [
        "#### Passing a list as an argument"
      ]
    },
    {
      "cell_type": "code",
      "metadata": {
        "id": "2LtsL8XG9XzJ",
        "colab_type": "code",
        "colab": {}
      },
      "source": [
        "def greet_users(names):\n",
        " \"\"\"Print a simple greeting to everyone.\"\"\"\n",
        " for name in names:\n",
        " msg = \"Hello, \" + name + \"!\"\n",
        " print(msg)\n",
        "usernames = ['hannah', 'ty', 'margot']\n",
        "greet_users(usernames)"
      ],
      "execution_count": 0,
      "outputs": []
    },
    {
      "cell_type": "markdown",
      "metadata": {
        "id": "Fkkasi0Z9YDw",
        "colab_type": "text"
      },
      "source": [
        "#### Allowing a function to modify a list\n",
        "*The following example sends a list of models to a function for printing. The original list is emptied, and the second list is filled.*"
      ]
    },
    {
      "cell_type": "code",
      "metadata": {
        "id": "Ob2dWxBe9YKB",
        "colab_type": "code",
        "colab": {}
      },
      "source": [
        "def print_models(unprinted, printed):\n",
        " \"\"\"3d print a set of models.\"\"\"\n",
        " while unprinted:\n",
        " current_model = unprinted.pop()\n",
        " print(\"Printing \" + current_model)\n",
        " printed.append(current_model)\n",
        "# Store some unprinted designs,\n",
        "# and print each of them.\n",
        "unprinted = ['phone case', 'pendant', 'ring']\n",
        "printed = []\n",
        "print_models(unprinted, printed)\n",
        "print(\"\\nUnprinted:\", unprinted)\n",
        "print(\"Printed:\", printed)"
      ],
      "execution_count": 0,
      "outputs": []
    },
    {
      "cell_type": "markdown",
      "metadata": {
        "id": "6zgwbNFCIq3e",
        "colab_type": "text"
      },
      "source": [
        "#### Preventing a function from modifying a list\n",
        "*The following example is the same as the previous one, except the original list is unchanged after calling print_models().* "
      ]
    },
    {
      "cell_type": "code",
      "metadata": {
        "id": "6SYTileNIq_x",
        "colab_type": "code",
        "colab": {}
      },
      "source": [
        "def print_models(unprinted, printed):\n",
        " \"\"\"3d print a set of models.\"\"\"\n",
        " while unprinted:\n",
        " current_model = unprinted.pop()\n",
        " print(\"Printing \" + current_model)\n",
        " printed.append(current_model)\n",
        "# Store some unprinted designs,\n",
        "# and print each of them.\n",
        "original = ['phone case', 'pendant', 'ring']\n",
        "printed = []\n",
        "print_models(original[:], printed)\n",
        "print(\"\\nOriginal:\", original)\n",
        "print(\"Printed:\", printed)"
      ],
      "execution_count": 0,
      "outputs": []
    },
    {
      "cell_type": "markdown",
      "metadata": {
        "id": "oWhumWdm9sOe",
        "colab_type": "text"
      },
      "source": [
        "### Passing an arbitrary number of arguments\n",
        "Sometimes you won't know how many arguments a\n",
        "function will need to accept. Python allows you to collect an arbitrary number of arguments into one parameter using the * operator. A parameter that accepts an arbitrary number of arguments must come last in the function definition.\n",
        " The ** operator allows a parameter to collect an arbitrary number of keyword arguments.\n"
      ]
    },
    {
      "cell_type": "markdown",
      "metadata": {
        "id": "geepFUtZ9sUl",
        "colab_type": "text"
      },
      "source": [
        "#### Collecting an arbitrary number of arguments"
      ]
    },
    {
      "cell_type": "code",
      "metadata": {
        "id": "VeOFGahw9sfB",
        "colab_type": "code",
        "colab": {}
      },
      "source": [
        "def make_pizza(size, *toppings):\n",
        " \"\"\"Make a pizza.\"\"\"\n",
        " print(\"\\nMaking a \" + size + \" pizza.\")\n",
        " print(\"Toppings:\")\n",
        " for topping in toppings:\n",
        " print(\"- \" + topping)\n",
        "# Make three pizzas with different toppings.\n",
        "make_pizza('small', 'pepperoni')\n",
        "make_pizza('large', 'bacon bits', 'pineapple')\n",
        "make_pizza('medium', 'mushrooms', 'peppers',\n",
        " 'onions', 'extra cheese')"
      ],
      "execution_count": 0,
      "outputs": []
    },
    {
      "cell_type": "markdown",
      "metadata": {
        "id": "s-skdtt_X9L_",
        "colab_type": "text"
      },
      "source": [
        "#### Collecting an arbitrary number of keyword arguments"
      ]
    },
    {
      "cell_type": "code",
      "metadata": {
        "id": "eeCwIqQmX9Uq",
        "colab_type": "code",
        "colab": {}
      },
      "source": [
        "def build_profile(first, last, **user_info):\n",
        " \"\"\"Build a user's profile dictionary.\"\"\"\n",
        " # Build a dict with the required keys.\n",
        " profile = {'first': first, 'last': last}\n",
        " # Add any other keys and values.\n",
        " for key, value in user_info.items():\n",
        " profile[key] = value\n",
        " return profile\n",
        "# Create two users with different kinds\n",
        "# of information.\n",
        "user_0 = build_profile('albert', 'einstein',\n",
        " location='princeton')\n",
        "user_1 = build_profile('marie', 'curie',\n",
        " location='paris', field='chemistry')\n",
        "print(user_0)\n",
        "print(user_1)"
      ],
      "execution_count": 0,
      "outputs": []
    },
    {
      "cell_type": "markdown",
      "metadata": {
        "id": "WuHW8vnFjpNk",
        "colab_type": "text"
      },
      "source": [
        "### What's the best way to structure a function?\n",
        "As you can see there are many ways to write and call a\n",
        "function. When you're starting out, aim for something that simply works. As you gain experience you'll develop an understanding of the more subtle advantages of different structures such as positional and keyword arguments, and the various approaches to importing functions. For now if your functions do what you need them to, you're doing well."
      ]
    },
    {
      "cell_type": "markdown",
      "metadata": {
        "id": "0tPyqUPl-ARP",
        "colab_type": "text"
      },
      "source": [
        "### Modules\n",
        "You can store your functions in a separate file called a module, and then import the functions you need into the file containing your main program. This allows for cleaner program files. (Make sure your module is stored in the same directory as your main program.)\n",
        "\n",
        "\n"
      ]
    },
    {
      "cell_type": "markdown",
      "metadata": {
        "id": "f8YP5rzY-AU5",
        "colab_type": "text"
      },
      "source": [
        "#### Storing a function in a module\n",
        "File: pizza.py\n",
        "\n",
        "\n",
        "```\n",
        "def make_pizza(size, *toppings):\n",
        " \"\"\"Make a pizza.\"\"\"\n",
        " print(\"\\nMaking a \" + size + \" pizza.\")\n",
        " print(\"Toppings:\")\n",
        " for topping in toppings:\n",
        " print(\"- \" + topping)\n",
        "```\n",
        "\n"
      ]
    },
    {
      "cell_type": "code",
      "metadata": {
        "id": "WdAcC5kquR2L",
        "colab_type": "code",
        "colab": {
          "base_uri": "https://localhost:8080/",
          "height": 34
        },
        "outputId": "017cdf7b-f3b7-4d27-db0d-d9428377301d"
      },
      "source": [
        "import os\n",
        "import urllib.request\n",
        "urllib.request.urlretrieve('https://raw.githubusercontent.com/nflorez228/Python-for-AI/master/Chapter%201/Aditional%20Resources/pizza.py', 'pizza.py')"
      ],
      "execution_count": 12,
      "outputs": [
        {
          "output_type": "execute_result",
          "data": {
            "text/plain": [
              "('pizza.py', <http.client.HTTPMessage at 0x7fe174bf43c8>)"
            ]
          },
          "metadata": {
            "tags": []
          },
          "execution_count": 12
        }
      ]
    },
    {
      "cell_type": "markdown",
      "metadata": {
        "id": "3WQoilrc-A_n",
        "colab_type": "text"
      },
      "source": [
        "#### Importing an entire module\n",
        "\n",
        "*File: making_pizzas.py*\n",
        "\n",
        "*Every function in the module is available in the program file.*"
      ]
    },
    {
      "cell_type": "code",
      "metadata": {
        "id": "MAr_UzF8-BIl",
        "colab_type": "code",
        "colab": {
          "base_uri": "https://localhost:8080/",
          "height": 170
        },
        "outputId": "c6e338e7-fea2-4cc9-e61d-4f0b60ba9d0a"
      },
      "source": [
        "import pizza\n",
        "pizza.make_pizza('medium', 'pepperoni')\n",
        "pizza.make_pizza('small', 'bacon', 'pineapple')"
      ],
      "execution_count": 13,
      "outputs": [
        {
          "output_type": "stream",
          "text": [
            "\n",
            "Making a medium pizza.\n",
            "Toppings:\n",
            "- pepperoni\n",
            "\n",
            "Making a small pizza.\n",
            "Toppings:\n",
            "- bacon\n",
            "- pineapple\n"
          ],
          "name": "stdout"
        }
      ]
    },
    {
      "cell_type": "markdown",
      "metadata": {
        "id": "9kxv-qgfZZ5A",
        "colab_type": "text"
      },
      "source": [
        "#### Importing a specific function\n",
        "*Only the imported functions are available in the program file.*"
      ]
    },
    {
      "cell_type": "code",
      "metadata": {
        "id": "8iW3JgwyZaBq",
        "colab_type": "code",
        "colab": {
          "base_uri": "https://localhost:8080/",
          "height": 170
        },
        "outputId": "5d021a18-c3db-404f-b2f5-419006f85d3d"
      },
      "source": [
        "from pizza import make_pizza\n",
        "make_pizza('medium', 'pepperoni')\n",
        "make_pizza('small', 'bacon', 'pineapple')"
      ],
      "execution_count": 14,
      "outputs": [
        {
          "output_type": "stream",
          "text": [
            "\n",
            "Making a medium pizza.\n",
            "Toppings:\n",
            "- pepperoni\n",
            "\n",
            "Making a small pizza.\n",
            "Toppings:\n",
            "- bacon\n",
            "- pineapple\n"
          ],
          "name": "stdout"
        }
      ]
    },
    {
      "cell_type": "markdown",
      "metadata": {
        "id": "NTHVxT2kZaQb",
        "colab_type": "text"
      },
      "source": [
        "#### Giving a module an alias"
      ]
    },
    {
      "cell_type": "code",
      "metadata": {
        "id": "5pjnDuBQZaYk",
        "colab_type": "code",
        "colab": {
          "base_uri": "https://localhost:8080/",
          "height": 170
        },
        "outputId": "cf0253bf-39d0-4f51-832d-e16c7e2ca1a2"
      },
      "source": [
        "import pizza as p\n",
        "p.make_pizza('medium', 'pepperoni')\n",
        "p.make_pizza('small', 'bacon', 'pineapple')"
      ],
      "execution_count": 15,
      "outputs": [
        {
          "output_type": "stream",
          "text": [
            "\n",
            "Making a medium pizza.\n",
            "Toppings:\n",
            "- pepperoni\n",
            "\n",
            "Making a small pizza.\n",
            "Toppings:\n",
            "- bacon\n",
            "- pineapple\n"
          ],
          "name": "stdout"
        }
      ]
    },
    {
      "cell_type": "markdown",
      "metadata": {
        "id": "vbtgD0peaT9n",
        "colab_type": "text"
      },
      "source": [
        "#### Giving a function an alias\n",
        "\n"
      ]
    },
    {
      "cell_type": "code",
      "metadata": {
        "id": "_Vebp52KaUIS",
        "colab_type": "code",
        "colab": {
          "base_uri": "https://localhost:8080/",
          "height": 170
        },
        "outputId": "e77c4383-0478-47c8-c601-aff222c754b7"
      },
      "source": [
        "from pizza import make_pizza as mp\n",
        "mp('medium', 'pepperoni')\n",
        "mp('small', 'bacon', 'pineapple')"
      ],
      "execution_count": 16,
      "outputs": [
        {
          "output_type": "stream",
          "text": [
            "\n",
            "Making a medium pizza.\n",
            "Toppings:\n",
            "- pepperoni\n",
            "\n",
            "Making a small pizza.\n",
            "Toppings:\n",
            "- bacon\n",
            "- pineapple\n"
          ],
          "name": "stdout"
        }
      ]
    },
    {
      "cell_type": "markdown",
      "metadata": {
        "id": "wu1hvFzBBRnq",
        "colab_type": "text"
      },
      "source": [
        "#### Importing all functions from a module\n",
        "*Don't do this, but recognize it when you see it in others' code. It can result in naming conflicts, which can cause errors.*\n"
      ]
    },
    {
      "cell_type": "code",
      "metadata": {
        "id": "qwy98MpwBRyP",
        "colab_type": "code",
        "colab": {
          "base_uri": "https://localhost:8080/",
          "height": 170
        },
        "outputId": "9dd4dc97-9bae-4c7c-d32c-19aff06331a5"
      },
      "source": [
        "from pizza import *\n",
        "make_pizza('medium', 'pepperoni')\n",
        "make_pizza('small', 'bacon', 'pineapple')"
      ],
      "execution_count": 17,
      "outputs": [
        {
          "output_type": "stream",
          "text": [
            "\n",
            "Making a medium pizza.\n",
            "Toppings:\n",
            "- pepperoni\n",
            "\n",
            "Making a small pizza.\n",
            "Toppings:\n",
            "- bacon\n",
            "- pineapple\n"
          ],
          "name": "stdout"
        }
      ]
    }
  ]
}