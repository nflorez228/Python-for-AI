{
  "nbformat": 4,
  "nbformat_minor": 0,
  "metadata": {
    "colab": {
      "name": "Files and Exceptions",
      "provenance": [],
      "collapsed_sections": [],
      "toc_visible": true,
      "include_colab_link": true
    },
    "kernelspec": {
      "display_name": "Python 3",
      "name": "python3"
    }
  },
  "cells": [
    {
      "cell_type": "markdown",
      "metadata": {
        "id": "view-in-github",
        "colab_type": "text"
      },
      "source": [
        "<a href=\"https://colab.research.google.com/github/nflorez228/Python-for-AI/blob/master/Chapter%201/Files%20and%20Exceptions.ipynb\" target=\"_parent\"><img src=\"https://colab.research.google.com/assets/colab-badge.svg\" alt=\"Open In Colab\"/></a>"
      ]
    },
    {
      "cell_type": "markdown",
      "metadata": {
        "colab_type": "text",
        "id": "5fCEDCU_qrC0"
      },
      "source": [
        "<h1>Files and Exceptions</h1>\n",
        "\n",
        "Your programs can read information in from files, and they can write data to files. Reading from files allows you to work with a wide variety of information; writing to files allows users to pick up where they left off the next time they run your program. You can write text to files, and you can store Python structures such as lists in data files.\n",
        "\n",
        "Exceptions are special objects that help your programs respond to errors in appropriate ways. For example if your program tries to open a file that doesn’t exist, you can use exceptions to display an informative error message instead of having the program crash.\n"
      ]
    },
    {
      "cell_type": "markdown",
      "metadata": {
        "colab_type": "text",
        "id": "GJBs_flRovLc"
      },
      "source": [
        "### Reading from a file\n",
        "To read from a file your program needs to open the file and then read the contents of the file. You can read the entire contents of the file at once, or read the file line by line. The with statement makes sure the file is closed properly when the program has finished accessing the file."
      ]
    },
    {
      "cell_type": "markdown",
      "metadata": {
        "id": "CLCj6gGN3NwA",
        "colab_type": "text"
      },
      "source": [
        "#### Reading an entire file at once"
      ]
    },
    {
      "cell_type": "code",
      "metadata": {
        "colab_type": "code",
        "id": "gJr_9dXGpJ05",
        "colab": {}
      },
      "source": [
        "filename = 'siddhartha.txt'\n",
        "with open(filename) as f_obj:\n",
        " contents = f_obj.read()\n",
        "print(contents)"
      ],
      "execution_count": 0,
      "outputs": []
    },
    {
      "cell_type": "markdown",
      "metadata": {
        "id": "OPlFCYfO3h2A",
        "colab_type": "text"
      },
      "source": [
        "#### Reading line by line\n",
        "\n",
        "*Each line that's read from the file has a newline character at the end of the line, and the print function adds its own newline character. The rstrip() method gets rid of the the extra blank lines this would result in when printing to the terminal.*"
      ]
    },
    {
      "cell_type": "code",
      "metadata": {
        "id": "o4PAqSOBwuhG",
        "colab_type": "code",
        "colab": {}
      },
      "source": [
        "filename = 'siddhartha.txt'\n",
        "with open(filename) as f_obj:\n",
        " for line in f_obj:\n",
        " print(line.rstrip())"
      ],
      "execution_count": 0,
      "outputs": []
    },
    {
      "cell_type": "markdown",
      "metadata": {
        "id": "_HbUWFdizcw9",
        "colab_type": "text"
      },
      "source": [
        "#### Storing the lines in a list"
      ]
    },
    {
      "cell_type": "code",
      "metadata": {
        "id": "i5TLysqBzc2o",
        "colab_type": "code",
        "colab": {}
      },
      "source": [
        "filename = 'siddhartha.txt'\n",
        "with open(filename) as f_obj:\n",
        " lines = f_obj.readlines()\n",
        "for line in lines:\n",
        " print(line.rstrip())"
      ],
      "execution_count": 0,
      "outputs": []
    },
    {
      "cell_type": "markdown",
      "metadata": {
        "id": "E-oxGww6tRP8",
        "colab_type": "text"
      },
      "source": [
        "### Writing to a file\n",
        "Passing the 'w' argument to open() tells Python you want to write to the file. Be careful; this will erase the contents of the file if it already exists. Passing the 'a' argument tells Python you want to append to the end of an existing file."
      ]
    },
    {
      "cell_type": "markdown",
      "metadata": {
        "id": "MrsNEMXN4DoI",
        "colab_type": "text"
      },
      "source": [
        "#### Writing to an empty file"
      ]
    },
    {
      "cell_type": "code",
      "metadata": {
        "id": "E9mzP-fn4my9",
        "colab_type": "code",
        "colab": {}
      },
      "source": [
        "filename = 'programming.txt'\n",
        "with open(filename, 'w') as f:\n",
        " f.write(\"I love programming!\")"
      ],
      "execution_count": 0,
      "outputs": []
    },
    {
      "cell_type": "markdown",
      "metadata": {
        "id": "tgmcTkjVHSDw",
        "colab_type": "text"
      },
      "source": [
        "#### Writing multiple lines to an empty file"
      ]
    },
    {
      "cell_type": "code",
      "metadata": {
        "id": "-rvqfNmzHTAl",
        "colab_type": "code",
        "colab": {}
      },
      "source": [
        "filename = 'programming.txt'\n",
        "with open(filename, 'w') as f:\n",
        " f.write(\"I love programming!\\n\")\n",
        " f.write(\"I love creating new games.\\n\")"
      ],
      "execution_count": 0,
      "outputs": []
    },
    {
      "cell_type": "markdown",
      "metadata": {
        "id": "p9K5XEQBzyE1",
        "colab_type": "text"
      },
      "source": [
        "#### Appending to a file"
      ]
    },
    {
      "cell_type": "code",
      "metadata": {
        "id": "-FQ3aa_DzyLa",
        "colab_type": "code",
        "colab": {}
      },
      "source": [
        "filename = 'programming.txt'\n",
        "with open(filename, 'a') as f:\n",
        " f.write(\"I also love working with data.\\n\")\n",
        " f.write(\"I love making apps as well.\\n\")"
      ],
      "execution_count": 0,
      "outputs": []
    },
    {
      "cell_type": "markdown",
      "metadata": {
        "colab_type": "text",
        "id": "-Rh3-Vt9Nev9"
      },
      "source": [
        "### File paths\n",
        "When Python runs the open() function, it looks for the file in the same directory where the program that's being excuted is stored. You can open a file from a subfolder using a relative path. You can also use an absolute path to open any file on your system.\n"
      ]
    },
    {
      "cell_type": "markdown",
      "metadata": {
        "id": "-mLzeQss41zx",
        "colab_type": "text"
      },
      "source": [
        "#### Opening a file from a subfolder"
      ]
    },
    {
      "cell_type": "code",
      "metadata": {
        "id": "J7DsLelXtdPT",
        "colab_type": "code",
        "colab": {}
      },
      "source": [
        "f_path = \"text_files/alice.txt\"\n",
        "with open(f_path) as f_obj:\n",
        " lines = f_obj.readlines()\n",
        "for line in lines:\n",
        " print(line.rstrip())"
      ],
      "execution_count": 0,
      "outputs": []
    },
    {
      "cell_type": "markdown",
      "metadata": {
        "id": "WWRkqHJLiLmv",
        "colab_type": "text"
      },
      "source": [
        "#### Opening a file using an absolute path"
      ]
    },
    {
      "cell_type": "code",
      "metadata": {
        "id": "E_IYJO-1iLtx",
        "colab_type": "code",
        "colab": {}
      },
      "source": [
        "f_path = \"/home/ehmatthes/books/alice.txt\"\n",
        "with open(f_path) as f_obj:\n",
        " lines = f_obj.readlines()"
      ],
      "execution_count": 0,
      "outputs": []
    },
    {
      "cell_type": "markdown",
      "metadata": {
        "id": "DQJPqL3T0Isv",
        "colab_type": "text"
      },
      "source": [
        "#### Opening a file on Windows\n",
        "*Windows will sometimes interpret forward slashes incorrectly. If you run into this, use backslashes in your file paths.*\n"
      ]
    },
    {
      "cell_type": "code",
      "metadata": {
        "id": "OZusHedH0I0Y",
        "colab_type": "code",
        "colab": {}
      },
      "source": [
        "f_path = \"C:\\Users\\ehmatthes\\books\\alice.txt\"\n",
        "with open(f_path) as f_obj:\n",
        " lines = f_obj.readlines()"
      ],
      "execution_count": 0,
      "outputs": []
    },
    {
      "cell_type": "markdown",
      "metadata": {
        "id": "WAwKLC2W5zSG",
        "colab_type": "text"
      },
      "source": [
        "### The try-except block\n",
        "When you think an error may occur, you can write a try-except block to handle the exception that might be raised. The try block tells Python to try running some code, and the except block tells Python what to do if the code results in a\n",
        "particular kind of error.\n",
        "\n"
      ]
    },
    {
      "cell_type": "markdown",
      "metadata": {
        "id": "oA51rcAC587i",
        "colab_type": "text"
      },
      "source": [
        "#### Handling the ZeroDivisionError exception\n"
      ]
    },
    {
      "cell_type": "code",
      "metadata": {
        "id": "2GLNzfuJ5-qF",
        "colab_type": "code",
        "colab": {}
      },
      "source": [
        "try:\n",
        " print(5/0)\n",
        "except ZeroDivisionError:\n",
        " print(\"You can't divide by zero!\")"
      ],
      "execution_count": 0,
      "outputs": []
    },
    {
      "cell_type": "markdown",
      "metadata": {
        "id": "O_2zH27fWtuJ",
        "colab_type": "text"
      },
      "source": [
        "#### Handling the FileNotFoundError exception"
      ]
    },
    {
      "cell_type": "code",
      "metadata": {
        "id": "BHJHxGQuWt2i",
        "colab_type": "code",
        "colab": {}
      },
      "source": [
        "f_name = 'siddhartha.txt'\n",
        "try:\n",
        " with open(f_name) as f_obj:\n",
        " lines = f_obj.readlines()\n",
        "except FileNotFoundError:\n",
        " msg = \"Can't find file {0}.\".format(f_name)\n",
        " print(msg)"
      ],
      "execution_count": 0,
      "outputs": []
    },
    {
      "cell_type": "markdown",
      "metadata": {
        "id": "09YdSNh_0zgT",
        "colab_type": "text"
      },
      "source": [
        "### Knowing which exception to handle\n",
        "\n",
        "It can be hard to know what kind of exception to handle when writing code. Try writing your code without a try block, and make it generate an error. The traceback will tell you what kind of exception your program needs to handle."
      ]
    },
    {
      "cell_type": "markdown",
      "metadata": {
        "id": "Su7N_8X29XXF",
        "colab_type": "text"
      },
      "source": [
        "### The else block\n",
        "The try block should only contain code that may cause an error. Any code that depends on the try block running successfully should be placed in the else block."
      ]
    },
    {
      "cell_type": "markdown",
      "metadata": {
        "id": "6kWFdA729Xbd",
        "colab_type": "text"
      },
      "source": [
        "#### Using an else block"
      ]
    },
    {
      "cell_type": "code",
      "metadata": {
        "id": "2LtsL8XG9XzJ",
        "colab_type": "code",
        "colab": {}
      },
      "source": [
        "print(\"Enter two numbers. I'll divide them.\")\n",
        "x = input(\"First number: \")\n",
        "y = input(\"Second number: \")\n",
        "try:\n",
        " result = int(x) / int(y)\n",
        "except ZeroDivisionError:\n",
        " print(\"You can't divide by zero!\")\n",
        "else:\n",
        " print(result)"
      ],
      "execution_count": 0,
      "outputs": []
    },
    {
      "cell_type": "markdown",
      "metadata": {
        "id": "Fkkasi0Z9YDw",
        "colab_type": "text"
      },
      "source": [
        "#### Preventing crashes from user input\n",
        "*Without the except block in the following example, the program would crash if the user tries to divide by zero. As written, it will handle the error gracefully and keep running.*"
      ]
    },
    {
      "cell_type": "code",
      "metadata": {
        "id": "Ob2dWxBe9YKB",
        "colab_type": "code",
        "colab": {}
      },
      "source": [
        "\"\"\"A simple calculator for division only.\"\"\"\n",
        "print(\"Enter two numbers. I'll divide them.\")\n",
        "print(\"Enter 'q' to quit.\")\n",
        "while True:\n",
        " x = input(\"\\nFirst number: \")\n",
        " if x == 'q':\n",
        " break\n",
        " y = input(\"Second number: \")\n",
        " if y == 'q':\n",
        " break\n",
        " try:\n",
        " result = int(x) / int(y)\n",
        " except ZeroDivisionError:\n",
        " print(\"You can't divide by zero!\")\n",
        " else:\n",
        " print(result)"
      ],
      "execution_count": 0,
      "outputs": []
    },
    {
      "cell_type": "markdown",
      "metadata": {
        "id": "6zgwbNFCIq3e",
        "colab_type": "text"
      },
      "source": [
        "### Deciding which error to report\n",
        "Well-written, properly tested code is not very prone to internal errors such as syntax or logical errors. But every time your program depends on something external such as user input or the existence of a file, there's a possibility of\n",
        "an exception being raised.\n",
        "\n",
        "It's up to you how to communicate errors to your users. Sometimes users need to know if a file is missing; sometimes it's better to handle the error silently. A little experience will help you know how much to report."
      ]
    },
    {
      "cell_type": "markdown",
      "metadata": {
        "id": "oWhumWdm9sOe",
        "colab_type": "text"
      },
      "source": [
        "### Failing silently\n",
        "Sometimes you want your program to just continue running when it encounters an error, without reporting the error to the user. Using the pass statement in an else block allows you to do this."
      ]
    },
    {
      "cell_type": "markdown",
      "metadata": {
        "id": "geepFUtZ9sUl",
        "colab_type": "text"
      },
      "source": [
        "#### Using the pass statement in an else bloc"
      ]
    },
    {
      "cell_type": "code",
      "metadata": {
        "id": "VeOFGahw9sfB",
        "colab_type": "code",
        "colab": {}
      },
      "source": [
        "f_names = ['alice.txt', 'siddhartha.txt',\n",
        " 'moby_dick.txt', 'little_women.txt']\n",
        "for f_name in f_names:\n",
        " # Report the length of each file found.\n",
        " try:\n",
        " with open(f_name) as f_obj:\n",
        " lines = f_obj.readlines()\n",
        " except FileNotFoundError:\n",
        " # Just move on to the next file.\n",
        " pass\n",
        " else:\n",
        " num_lines = len(lines)\n",
        " msg = \"{0} has {1} lines.\".format(\n",
        " f_name, num_lines)\n",
        " print(msg)"
      ],
      "execution_count": 0,
      "outputs": []
    },
    {
      "cell_type": "markdown",
      "metadata": {
        "id": "WuHW8vnFjpNk",
        "colab_type": "text"
      },
      "source": [
        "### Avoid bare except blocks\n",
        "Exception-handling code should catch specific exceptions that you expect to happen during your program's execution. A bare except block will catch all exceptions, including keyboard interrupts and system exits you might need when\n",
        "forcing a program to close.\n",
        "\n",
        "If you want to use a try block and you're not sure which exception to catch, use Exception. It will catch most exceptions, but still allow you to interrupt programs intentionally."
      ]
    },
    {
      "cell_type": "markdown",
      "metadata": {
        "id": "f8YP5rzY-AU5",
        "colab_type": "text"
      },
      "source": [
        "#### Don’t use bare except blocks"
      ]
    },
    {
      "cell_type": "code",
      "metadata": {
        "id": "WdAcC5kquR2L",
        "colab_type": "code",
        "colab": {}
      },
      "source": [
        "try:\n",
        " # Do something\n",
        "except:\n",
        " pass"
      ],
      "execution_count": 0,
      "outputs": []
    },
    {
      "cell_type": "markdown",
      "metadata": {
        "id": "3WQoilrc-A_n",
        "colab_type": "text"
      },
      "source": [
        "#### Use Exception instead"
      ]
    },
    {
      "cell_type": "code",
      "metadata": {
        "id": "MAr_UzF8-BIl",
        "colab_type": "code",
        "colab": {}
      },
      "source": [
        "try:\n",
        " # Do something\n",
        "except Exception:\n",
        " pass"
      ],
      "execution_count": 0,
      "outputs": []
    },
    {
      "cell_type": "markdown",
      "metadata": {
        "id": "9kxv-qgfZZ5A",
        "colab_type": "text"
      },
      "source": [
        "#### Printing the exception"
      ]
    },
    {
      "cell_type": "code",
      "metadata": {
        "id": "8iW3JgwyZaBq",
        "colab_type": "code",
        "colab": {}
      },
      "source": [
        "try:\n",
        " # Do something\n",
        "except Exception as e:\n",
        " print(e, type(e))"
      ],
      "execution_count": 0,
      "outputs": []
    },
    {
      "cell_type": "markdown",
      "metadata": {
        "id": "J9E65bz02vt6",
        "colab_type": "text"
      },
      "source": [
        "### Storing data with json\n",
        "The json module allows you to dump simple Python data structures into a file, and load the data from that file the next time the program runs. The JSON data format is not specific to Python, so you can share this kind of data with\n",
        "people who work in other languages as well.\n",
        "Knowing how to manage exceptions is important when working with stored data. You'll usually want to make sure the data you're trying to load exists before working with it."
      ]
    },
    {
      "cell_type": "markdown",
      "metadata": {
        "id": "c0rIrF4z2vx1",
        "colab_type": "text"
      },
      "source": [
        "#### Using json.dump() to store data"
      ]
    },
    {
      "cell_type": "code",
      "metadata": {
        "id": "Ny9x3l9Z2v8N",
        "colab_type": "code",
        "colab": {}
      },
      "source": [
        "\"\"\"Store some numbers.\"\"\"\n",
        "import json\n",
        "numbers = [2, 3, 5, 7, 11, 13]\n",
        "filename = 'numbers.json'\n",
        "with open(filename, 'w') as f_obj:\n",
        " json.dump(numbers, f_obj)"
      ],
      "execution_count": 0,
      "outputs": []
    },
    {
      "cell_type": "markdown",
      "metadata": {
        "id": "fVSSVQfE2wtA",
        "colab_type": "text"
      },
      "source": [
        "#### Using json.load() to read data"
      ]
    },
    {
      "cell_type": "code",
      "metadata": {
        "id": "BKPaEPBG2w1T",
        "colab_type": "code",
        "colab": {}
      },
      "source": [
        "\"\"\"Load some previously stored numbers.\"\"\"\n",
        "import json\n",
        "filename = 'numbers.json'\n",
        "with open(filename) as f_obj:\n",
        " numbers = json.load(f_obj)\n",
        "print(numbers)"
      ],
      "execution_count": 0,
      "outputs": []
    },
    {
      "cell_type": "markdown",
      "metadata": {
        "id": "XMvr_Ane2w_Y",
        "colab_type": "text"
      },
      "source": [
        "#### Making sure the stored data exists"
      ]
    },
    {
      "cell_type": "code",
      "metadata": {
        "id": "kPYkh7Oh2xIz",
        "colab_type": "code",
        "colab": {}
      },
      "source": [
        "import json\n",
        "f_name = 'numbers.json'\n",
        "try:\n",
        " with open(f_name) as f_obj:\n",
        " numbers = json.load(f_obj)\n",
        "except FileNotFoundError:\n",
        " msg = \"Can’t find {0}.\".format(f_name)\n",
        " print(msg)\n",
        "else:\n",
        " print(numbers)"
      ],
      "execution_count": 0,
      "outputs": []
    }
  ]
}