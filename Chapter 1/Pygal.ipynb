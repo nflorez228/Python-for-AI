{
  "nbformat": 4,
  "nbformat_minor": 0,
  "metadata": {
    "colab": {
      "name": "matplotlib",
      "provenance": [],
      "collapsed_sections": [],
      "toc_visible": true,
      "include_colab_link": true
    },
    "kernelspec": {
      "display_name": "Python 3",
      "name": "python3"
    }
  },
  "cells": [
    {
      "cell_type": "markdown",
      "metadata": {
        "id": "view-in-github",
        "colab_type": "text"
      },
      "source": [
        "<a href=\"https://colab.research.google.com/github/nflorez228/Python-for-AI/blob/master/Chapter%201/Pygal.ipynb\" target=\"_parent\"><img src=\"https://colab.research.google.com/assets/colab-badge.svg\" alt=\"Open In Colab\"/></a>"
      ]
    },
    {
      "cell_type": "markdown",
      "metadata": {
        "colab_type": "text",
        "id": "5fCEDCU_qrC0"
      },
      "source": [
        "<h1>matplotlib</h1>\n",
        "\n",
        "Data visualization involves exploring data through visual representations. The matplotlib package helps you make visually appealing representations of the\n",
        "data you’re working with. matplotlib is extremely flexible; these examples will help you get started with a few simple visualizations."
      ]
    },
    {
      "cell_type": "markdown",
      "metadata": {
        "colab_type": "text",
        "id": "GJBs_flRovLc"
      },
      "source": [
        "### Line graphs and scatter plots"
      ]
    },
    {
      "cell_type": "markdown",
      "metadata": {
        "id": "OPlFCYfO3h2A",
        "colab_type": "text"
      },
      "source": [
        "#### Making a line graph"
      ]
    },
    {
      "cell_type": "code",
      "metadata": {
        "id": "JHLjed9v8SYa",
        "colab_type": "code",
        "colab": {}
      },
      "source": [
        "import matplotlib.pyplot as plt\n",
        "x_values = [0, 1, 2, 3, 4, 5]\n",
        "squares = [0, 1, 4, 9, 16, 25]\n",
        "plt.plot(x_values, squares)\n",
        "plt.show()\n"
      ],
      "execution_count": 0,
      "outputs": []
    },
    {
      "cell_type": "markdown",
      "metadata": {
        "id": "_HbUWFdizcw9",
        "colab_type": "text"
      },
      "source": [
        "#### Making a scatter plot\n",
        "*The scatter() function takes a list of x values and a list of y values, and a variety of optional arguments. The s=10 argument controls the size of each point.*\n"
      ]
    },
    {
      "cell_type": "code",
      "metadata": {
        "id": "i5TLysqBzc2o",
        "colab_type": "code",
        "colab": {}
      },
      "source": [
        "import matplotlib.pyplot as plt\n",
        "x_values = list(range(1000))\n",
        "squares = [x**2 for x in x_values]\n",
        "plt.scatter(x_values, squares, s=10)\n",
        "plt.show()"
      ],
      "execution_count": 0,
      "outputs": []
    },
    {
      "cell_type": "markdown",
      "metadata": {
        "id": "E-oxGww6tRP8",
        "colab_type": "text"
      },
      "source": [
        "### Customizing plots\n",
        "Plots can be customized in a wide variety of ways. Just about any element of a plot can be customized.\n"
      ]
    },
    {
      "cell_type": "markdown",
      "metadata": {
        "id": "MrsNEMXN4DoI",
        "colab_type": "text"
      },
      "source": [
        "#### Adding titles and labels, and scaling axes\n"
      ]
    },
    {
      "cell_type": "code",
      "metadata": {
        "id": "nnIt1Vp_FkAf",
        "colab_type": "code",
        "colab": {}
      },
      "source": [
        "import matplotlib.pyplot as plt\n",
        "x_values = list(range(1000))\n",
        "squares = [x**2 for x in x_values]\n",
        "plt.scatter(x_values, squares, s=10)\n",
        "plt.title(\"Square Numbers\", fontsize=24)\n",
        "plt.xlabel(\"Value\", fontsize=18)\n",
        "plt.ylabel(\"Square of Value\", fontsize=18)\n",
        "plt.tick_params(axis='both', which='major',\n",
        " labelsize=14)\n",
        "plt.axis([0, 1100, 0, 1100000])\n",
        "plt.show()"
      ],
      "execution_count": 0,
      "outputs": []
    },
    {
      "cell_type": "markdown",
      "metadata": {
        "id": "tgmcTkjVHSDw",
        "colab_type": "text"
      },
      "source": [
        "#### Using a colormap\n",
        "*A colormap varies the point colors from one shade to another, based on a certain value for each point. The value used to determine the color of each point is passed to the c argument, and the cmap argument specifies which colormap to use.*\n",
        "\n",
        "*The edgecolor='none' argument removes the black outline from each point.* \n",
        "\n"
      ]
    },
    {
      "cell_type": "code",
      "metadata": {
        "id": "-rvqfNmzHTAl",
        "colab_type": "code",
        "colab": {}
      },
      "source": [
        "plt.scatter(x_values, squares, c=squares,\n",
        " cmap=plt.cm.Blues, edgecolor='none',\n",
        " s=10)"
      ],
      "execution_count": 0,
      "outputs": []
    },
    {
      "cell_type": "markdown",
      "metadata": {
        "id": "p9K5XEQBzyE1",
        "colab_type": "text"
      },
      "source": [
        "#### Emphasizing points\n",
        "You can plot as much data as you want on one plot. Here we replot the first and last points larger to emphasize them.\n"
      ]
    },
    {
      "cell_type": "code",
      "metadata": {
        "id": "-FQ3aa_DzyLa",
        "colab_type": "code",
        "colab": {}
      },
      "source": [
        "import matplotlib.pyplot as plt\n",
        "x_values = list(range(1000))\n",
        "squares = [x**2 for x in x_values]\n",
        "plt.scatter(x_values, squares, c=squares,\n",
        " cmap=plt.cm.Blues, edgecolor='none',\n",
        " s=10)\n",
        "\n",
        "plt.scatter(x_values[0], squares[0], c='green',\n",
        " edgecolor='none', s=100)\n",
        "plt.scatter(x_values[-1], squares[-1], c='red',\n",
        " edgecolor='none', s=100)\n",
        "plt.title(\"Square Numbers\", fontsize=24)"
      ],
      "execution_count": 0,
      "outputs": []
    },
    {
      "cell_type": "markdown",
      "metadata": {
        "id": "BtZ1UsE28xX_",
        "colab_type": "text"
      },
      "source": [
        "#### Removing axes\n",
        "You can customize or remove axes entirely. Here’s how to access\n",
        "each axis, and hide it.\n",
        "\n"
      ]
    },
    {
      "cell_type": "code",
      "metadata": {
        "id": "G9H0PNEOGR87",
        "colab_type": "code",
        "colab": {}
      },
      "source": [
        "plt.axes().get_xaxis().set_visible(False)\n",
        "plt.axes().get_yaxis().set_visible(False)"
      ],
      "execution_count": 0,
      "outputs": []
    },
    {
      "cell_type": "markdown",
      "metadata": {
        "id": "q9f_2aay9G4s",
        "colab_type": "text"
      },
      "source": [
        "#### Setting a custom figure size\n",
        "You can make your plot as big or small as you want. Before\n",
        "plotting your data, add the following code. The dpi argument is\n",
        "optional; if you don’t know your system’s resolution you can omit\n",
        "the argument and adjust the figsize argument accordingly."
      ]
    },
    {
      "cell_type": "code",
      "metadata": {
        "id": "m8sNJSW89G8m",
        "colab_type": "code",
        "colab": {}
      },
      "source": [
        "plt.figure(dpi=128, figsize=(10, 6))"
      ],
      "execution_count": 0,
      "outputs": []
    },
    {
      "cell_type": "markdown",
      "metadata": {
        "id": "miioYYDYGaMg",
        "colab_type": "text"
      },
      "source": [
        "#### Saving a plot\n",
        "The matplotlib viewer has an interactive save button, but you can\n",
        "also save your visualizations programmatically. To do so, replace\n",
        "plt.show() with plt.savefig(). The bbox_inches='tight'\n",
        "argument trims extra whitespace from the plot.\n"
      ]
    },
    {
      "cell_type": "code",
      "metadata": {
        "id": "QBvZNifOGaae",
        "colab_type": "code",
        "colab": {}
      },
      "source": [
        "plt.savefig('squares.png', bbox_inches='tight')"
      ],
      "execution_count": 0,
      "outputs": []
    },
    {
      "cell_type": "markdown",
      "metadata": {
        "id": "ill4TRr3GmA1",
        "colab_type": "text"
      },
      "source": [
        "### Multiple plots\n",
        "You can make as many plots as you want on one figure.\n",
        "When you make multiple plots, you can emphasize\n",
        "relationships in the data. For example you can fill the space\n",
        "between two sets of data."
      ]
    },
    {
      "cell_type": "markdown",
      "metadata": {
        "id": "hMteTtoOGmqd",
        "colab_type": "text"
      },
      "source": [
        "#### Plotting two sets of data\n",
        "Here we use plt.scatter() twice to plot square numbers and\n",
        "cubes on the same figure."
      ]
    },
    {
      "cell_type": "code",
      "metadata": {
        "id": "qCTf8YIkGm8-",
        "colab_type": "code",
        "colab": {}
      },
      "source": [
        "import matplotlib.pyplot as plt\n",
        "x_values = list(range(11))\n",
        "squares = [x**2 for x in x_values]\n",
        "cubes = [x**3 for x in x_values]\n",
        "plt.scatter(x_values, squares, c='blue',\n",
        " edgecolor='none', s=20)\n",
        "plt.scatter(x_values, cubes, c='red',\n",
        " edgecolor='none', s=20)\n",
        "plt.axis([0, 11, 0, 1100])\n",
        "plt.show()"
      ],
      "execution_count": 0,
      "outputs": []
    },
    {
      "cell_type": "markdown",
      "metadata": {
        "id": "xF855n1EGnRR",
        "colab_type": "text"
      },
      "source": [
        "#### Filling the space between data sets\n",
        "The fill_between() method fills the space between two data\n",
        "sets. It takes a series of x-values and two series of y-values. It also\n",
        "takes a facecolor to use for the fill, and an optional alpha\n",
        "argument that controls the color’s transparency."
      ]
    },
    {
      "cell_type": "code",
      "metadata": {
        "id": "Q_zg-MlXGnZX",
        "colab_type": "code",
        "colab": {}
      },
      "source": [
        "plt.fill_between(x_values, cubes, squares,\n",
        " facecolor='blue', alpha=0.25)"
      ],
      "execution_count": 0,
      "outputs": []
    },
    {
      "cell_type": "markdown",
      "metadata": {
        "id": "oeXlrAxQGnoj",
        "colab_type": "text"
      },
      "source": [
        "#### Working with dates and times\n",
        "Many interesting data sets have a date or time as the xvalue. Python’s datetime module helps you work with this kind of data.\n"
      ]
    },
    {
      "cell_type": "markdown",
      "metadata": {
        "id": "HEApmiutGnww",
        "colab_type": "text"
      },
      "source": [
        "#### Generating the current date\n",
        "The datetime.now() function returns a datetime object\n",
        "representing the current date and time.\n"
      ]
    },
    {
      "cell_type": "code",
      "metadata": {
        "id": "0gTQkpbtGonB",
        "colab_type": "code",
        "colab": {}
      },
      "source": [
        "from datetime import datetime as dt\n",
        "today = dt.now()\n",
        "date_string = dt.strftime(today, '%m/%d/%Y')\n",
        "print(date_string)\n"
      ],
      "execution_count": 0,
      "outputs": []
    },
    {
      "cell_type": "markdown",
      "metadata": {
        "id": "hQXSDi5wGovS",
        "colab_type": "text"
      },
      "source": [
        "#### Generating a specific date\n",
        "You can also generate a datetime object for any date and time you\n",
        "want. The positional order of arguments is year, month, and day.\n",
        "The hour, minute, second, and microsecond arguments are\n",
        "optional."
      ]
    },
    {
      "cell_type": "code",
      "metadata": {
        "id": "0VRC8lVPGo1X",
        "colab_type": "code",
        "colab": {}
      },
      "source": [
        "from datetime import datetime as dt\n",
        "new_years = dt(2017, 1, 1)\n",
        "fall_equinox = dt(year=2016, month=9, day=22)"
      ],
      "execution_count": 0,
      "outputs": []
    },
    {
      "cell_type": "markdown",
      "metadata": {
        "id": "BLldRoO0HNyY",
        "colab_type": "text"
      },
      "source": [
        "#### Datetime formatting arguments\n",
        "The strftime() function generates a formatted string from a\n",
        "datetime object, and the strptime() function genereates a\n",
        "datetime object from a string. The following codes let you work with\n",
        "dates exactly as you need to.\n",
        "\n",
        "\n",
        "``` \n",
        "%A Weekday name, such as Monday\n",
        "%B Month name, such as January\n",
        "%m Month, as a number (01 to 12)\n",
        "%d Day of the month, as a number (01 to 31)\n",
        "%Y Four-digit year, such as 2016\n",
        "%y Two-digit year, such as 16\n",
        "%H Hour, in 24-hour format (00 to 23)\n",
        "%I Hour, in 12-hour format (01 to 12)\n",
        "%p AM or PM\n",
        "%M Minutes (00 to 59)\n",
        "%S Seconds (00 to 61)\n",
        "Converting a string to a datetime \n",
        "```\n",
        "\n"
      ]
    },
    {
      "cell_type": "markdown",
      "metadata": {
        "id": "B_u1qHpLHONN",
        "colab_type": "text"
      },
      "source": [
        "#### Converting a string to a datetime object"
      ]
    },
    {
      "cell_type": "code",
      "metadata": {
        "id": "T52S1BSGHOwh",
        "colab_type": "code",
        "colab": {}
      },
      "source": [
        "new_years = dt.strptime('1/1/2017', '%m/%d/%Y')"
      ],
      "execution_count": 0,
      "outputs": []
    },
    {
      "cell_type": "markdown",
      "metadata": {
        "id": "f1vzRizOHPAx",
        "colab_type": "text"
      },
      "source": [
        "#### Converting a datetime object to a string"
      ]
    },
    {
      "cell_type": "code",
      "metadata": {
        "id": "CwkBHTV4HPXO",
        "colab_type": "code",
        "colab": {}
      },
      "source": [
        "ny_string = dt.strftime(new_years, '%B %d, %Y')\n",
        "print(ny_string)"
      ],
      "execution_count": 0,
      "outputs": []
    },
    {
      "cell_type": "markdown",
      "metadata": {
        "id": "7sElg_1JHPoI",
        "colab_type": "text"
      },
      "source": [
        "#### Plotting high temperatures\n",
        "The following code creates a list of dates and a corresponding list\n",
        "of high temperatures. It then plots the high temperatures, with the\n",
        "date labels displayed in a specific format."
      ]
    },
    {
      "cell_type": "code",
      "metadata": {
        "id": "wOGO5-UCHPwc",
        "colab_type": "code",
        "colab": {}
      },
      "source": [
        "from datetime import datetime as dt\n",
        "import matplotlib.pyplot as plt\n",
        "from matplotlib import dates as mdates\n",
        "dates = [\n",
        " dt(2016, 6, 21), dt(2016, 6, 22),\n",
        " dt(2016, 6, 23), dt(2016, 6, 24),\n",
        " ]\n",
        "highs = [57, 68, 64, 59]\n",
        "\n",
        "fig = plt.figure(dpi=128, figsize=(10,6))\n",
        "plt.plot(dates, highs, c='red')\n",
        "plt.title(\"Daily High Temps\", fontsize=24)\n",
        "plt.ylabel(\"Temp (F)\", fontsize=16)\n",
        "x_axis = plt.axes().get_xaxis()\n",
        "x_axis.set_major_formatter(\n",
        " mdates.DateFormatter('%B %d %Y')\n",
        " )\n",
        "fig.autofmt_xdate()\n",
        "plt.show()\n"
      ],
      "execution_count": 0,
      "outputs": []
    },
    {
      "cell_type": "markdown",
      "metadata": {
        "id": "KModq0GZHvrL",
        "colab_type": "text"
      },
      "source": [
        "### Mltiple plots in one figure\n",
        "You can include as many individual graphs in one figure as you want. This is useful, for example, when comparing related datasets."
      ]
    },
    {
      "cell_type": "markdown",
      "metadata": {
        "id": "zVB1tYbMHvy6",
        "colab_type": "text"
      },
      "source": [
        "#### Sharing an x-axis\n",
        "The following code plots a set of squares and a set of cubes on\n",
        "two separate graphs that share a common x-axis.\n",
        " The plt.subplots() function returns a figure object and a tuple\n",
        "of axes. Each set of axes corresponds to a separate plot in the\n",
        "figure. The first two arguments cont"
      ]
    },
    {
      "cell_type": "code",
      "metadata": {
        "id": "Wrv9v328Hv7q",
        "colab_type": "code",
        "colab": {}
      },
      "source": [
        "import matplotlib.pyplot as plt\n",
        "x_vals = list(range(11))\n",
        "squares = [x**2 for x in x_vals]\n",
        "cubes = [x**3 for x in x_vals]\n",
        "fig, axarr = plt.subplots(2, 1, sharex=True)\n",
        "axarr[0].scatter(x_vals, squares)\n",
        "axarr[0].set_title('Squares')\n",
        "axarr[1].scatter(x_vals, cubes, c='red')\n",
        "axarr[1].set_title('Cubes')\n",
        "plt.show()"
      ],
      "execution_count": 0,
      "outputs": []
    },
    {
      "cell_type": "markdown",
      "metadata": {
        "id": "FvikrphCHwEG",
        "colab_type": "text"
      },
      "source": [
        "#### Sharing a y-axis\n",
        "To share a y-axis, we use the sharey=True argument."
      ]
    },
    {
      "cell_type": "code",
      "metadata": {
        "id": "Ipjav7qFHwLm",
        "colab_type": "code",
        "colab": {}
      },
      "source": [
        "import matplotlib.pyplot as plt\n",
        "x_vals = list(range(11))\n",
        "squares = [x**2 for x in x_vals]\n",
        "cubes = [x**3 for x in x_vals]\n",
        "fig, axarr = plt.subplots(1, 2, sharey=True)\n",
        "axarr[0].scatter(x_vals, squares)\n",
        "axarr[0].set_title('Squares')\n",
        "axarr[1].scatter(x_vals, cubes, c='red')\n",
        "axarr[1].set_title('Cubes')\n",
        "plt.show()"
      ],
      "execution_count": 0,
      "outputs": []
    }
  ]
}